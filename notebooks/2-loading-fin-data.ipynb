{
 "cells": [
  {
   "cell_type": "code",
   "execution_count": null,
   "metadata": {},
   "outputs": [],
   "source": [
    "import os\n",
    "import os.path\n",
    "\n",
    "import pickle\n",
    "import pandas as pd\n",
    "import numpy as np\n",
    "\n",
    "from tqdm import tqdm\n",
    "\n",
    "import requests\n",
    "from requests.adapters import HTTPAdapter\n",
    "from requests.packages.urllib3.util.retry import Retry\n",
    "\n",
    "import matplotlib.pyplot as plt\n",
    "\n",
    "import warnings\n",
    "warnings.filterwarnings(action=\"ignore\")"
   ]
  },
  {
   "cell_type": "markdown",
   "metadata": {},
   "source": [
    "# 1. Загрузим ИНН и названия вузов"
   ]
  },
  {
   "cell_type": "code",
   "execution_count": null,
   "metadata": {},
   "outputs": [],
   "source": [
    "with open('..\\\\data\\\\raw\\\\vuz_inn.pickle', 'rb') as f:\n",
    "        vuz_inn = pickle.load(f)"
   ]
  },
  {
   "cell_type": "code",
   "execution_count": null,
   "metadata": {},
   "outputs": [],
   "source": [
    "vuz_inn.head()"
   ]
  },
  {
   "cell_type": "markdown",
   "metadata": {},
   "source": [
    "# 2. Посчитаем для каких вузов доступна финансовая информация"
   ]
  },
  {
   "cell_type": "markdown",
   "metadata": {},
   "source": [
    "Источник данных - сведения о планах финансово-хозяйственной деятельности https://bus.gov.ru/open-data.\n",
    "Определим, для каких вузов финансовая информация доступна на bus.gov.ru. \n",
    "Берем финансовую информацию за все года что есть."
   ]
  },
  {
   "cell_type": "code",
   "execution_count": null,
   "metadata": {},
   "outputs": [],
   "source": [
    "# %%pycodestyle\n",
    "data_dir = os.path.dirname(os.getcwd()) + '\\\\data\\\\raw'\n",
    "file_list = os.listdir(data_dir)\n",
    "if 'years_num.pickle' in file_list:\n",
    "    print('нашлось сохраненное years_num')\n",
    "    with open('..\\\\data\\\\raw\\\\years_num.pickle', 'rb') as f:\n",
    "        years_num = pickle.load(f)\n",
    "else:\n",
    "    years_num = []\n",
    "    for i in tqdm(range(800)):\n",
    "        inn = vuz_inn['inn'][i]\n",
    "        url = 'https://bus.gov.ru/public-rest/api/epbs/fap.json?inn=' + inn\n",
    "        response = requests.get(url)\n",
    "        data = response.json()\n",
    "\n",
    "        if data['content'] == []:\n",
    "            years_num.append(0)\n",
    "        else:\n",
    "            temp = []\n",
    "            for i in range(len(data['content'])):\n",
    "                temp.append(data['content'][i]['common']['financialYear'])\n",
    "            years_num.append(len(temp))\n",
    "    with open('..\\\\data\\\\raw\\\\years_num.pickle', 'wb') as f:\n",
    "        pickle.dump(years_num, f)\n",
    "\n",
    "vuz_inn['years_num'] = years_num\n",
    "\n",
    "years_num_unique = vuz_inn['years_num'].unique()\n",
    "\n",
    "print('Финансовая информация доступна для',\n",
    "      len(vuz_inn[vuz_inn['years_num'] > 0])*100/800,\n",
    "      '% ВУЗов')\n",
    "\n",
    "TOTAL_NUMBER = 800\n",
    "FIN_INFO_AVAILABLE = len(vuz_inn[vuz_inn['years_num'] > 0])\n",
    "FIN_INFO_UNAVAILABLE = len(vuz_inn[vuz_inn['years_num'] == 0])\n",
    "\n",
    "vus_general = {'Финансовая информация доступна': FIN_INFO_AVAILABLE,\n",
    "               'Финансовая информация НЕдоступна':FIN_INFO_UNAVAILABLE}\n",
    "vus_general_ser = pd.Series(vus_general) \n",
    "\n",
    "# Make the plot with pandas\n",
    "vus_general_ser.plot(kind='pie', subplots=True)\n",
    "plt.title(\"Набор данных по вузам\")\n",
    "plt.ylabel(\"\")\n",
    "plt.show()"
   ]
  },
  {
   "cell_type": "code",
   "execution_count": null,
   "metadata": {},
   "outputs": [],
   "source": [
    "vuz_inn[['full_name', 'years_num']].head()"
   ]
  },
  {
   "cell_type": "markdown",
   "metadata": {},
   "source": [
    "# 3. Отбросим ВУЗы, у которых недоступна финансовая информация"
   ]
  },
  {
   "cell_type": "code",
   "execution_count": null,
   "metadata": {},
   "outputs": [],
   "source": [
    "# %%pycodestyle\n",
    "vuz_inn_fin = vuz_inn[vuz_inn['years_num'] > 0]\n",
    "vuz_inn_fin.reset_index(inplace=True)\n",
    "vuz_inn_fin.drop(['index'], axis=1, inplace=True)\n",
    "print('Осталось', len(vuz_inn_fin), 'вузов')"
   ]
  },
  {
   "cell_type": "code",
   "execution_count": null,
   "metadata": {},
   "outputs": [],
   "source": [
    "no_data = vuz_inn[vuz_inn['years_num'] == 0]['full_name']\n",
    "print(\"Для этих \", len(no_data), \" вузов нет данных:\\n\")\n",
    "n = 1\n",
    "for i in vuz_inn[vuz_inn['years_num'] == 0]['full_name']:\n",
    "    print(n, '-', i)\n",
    "    n += 1"
   ]
  },
  {
   "cell_type": "markdown",
   "metadata": {},
   "source": [
    "# 4. Загрузим по api финансовые показатели ВУЗов"
   ]
  },
  {
   "cell_type": "markdown",
   "metadata": {},
   "source": [
    "## 4.1. Блок indicatorsOfFinancialCondition\n",
    "\n",
    "Будем использовать только обязательные параметры. Потому что необязательные могут быть незаполненными.\n",
    "\n",
    "**Блок indicatorsOfFinancialCondition. Показатели финансового состояния:**\n",
    "- sumRealEstate - Недвижимое имущество O\n",
    "- sumRealEstateResidual - Остаточная стоимость недвижимого имущества O\n",
    "- sumValuableProperty\t- Особо ценное движимое имущество (обязательное)\n",
    "- sumValuablePropertyResidual - Остаточная стоимость особо ценного движимого имущества O\n",
    "- sumBalanceNoFinancial - Сумма нефинансовых активов O\n",
    "- cash - Денежные средства учреждения O\n",
    "- accountsCash - Денежные средства учреждения на счетах O\n",
    "- depositCash\t- Денежные средства учреждения, размещенные на депозиты в кредитной организации O\n",
    "- others\t- Иные финансовые инструменты O\n",
    "- debentures - Долговые обязательства O\n",
    "- kredit - Кредиторская задолженность O\n",
    "- sumDelayedPayable - Просроченная кредиторская задолженность O"
   ]
  },
  {
   "cell_type": "code",
   "execution_count": null,
   "metadata": {},
   "outputs": [],
   "source": [
    "# %%pycodestyle\n",
    "def print_block_features_example(block_name):\n",
    "    \"\"\"Return a foobang\n",
    "    \n",
    "    Optional plotz says to frobnicate the bizbaz first.\n",
    "    \n",
    "    \"\"\"\n",
    "    inn = '3528051834'\n",
    "    url = 'https://bus.gov.ru/public-rest/api/epbs/fap.json?inn=' + inn\n",
    "    response = requests.get(url)\n",
    "    data = response.json()\n",
    "\n",
    "    indicators_dict = data['content'][0][block_name]\n",
    "    print('В блоке', block_name,\n",
    "          'содержится', len(indicators_dict),\n",
    "          'признака:')\n",
    "    if block_name == 'indicatorsOfFinancialCondition':\n",
    "        num = 0\n",
    "        for i in indicators_dict:\n",
    "            print(num, '-', i)\n",
    "            num += 1\n",
    "        print('\\nПример для ИНН =', inn)\n",
    "        print(indicators_dict)\n",
    "    else:\n",
    "        names = []\n",
    "        num = 0\n",
    "        for i in indicators_dict:\n",
    "            print(num, '-', i['name'])\n",
    "            names.append(i['name'])\n",
    "            num += 1\n",
    "        print('\\nПример для ИНН =', inn)\n",
    "        for i in indicators_dict:\n",
    "            print(i, '\\n')\n",
    "        return names"
   ]
  },
  {
   "cell_type": "code",
   "execution_count": null,
   "metadata": {},
   "outputs": [],
   "source": [
    "indicators_of_financial_condition_names = print_block_features_example('indicatorsOfFinancialCondition')"
   ]
  },
  {
   "cell_type": "code",
   "execution_count": null,
   "metadata": {},
   "outputs": [],
   "source": [
    "def dict2df(indicators_dict, inn, year, last_update):\n",
    "    prepared_dict = {i: x for i, x in enumerate(indicators_dict.items())}\n",
    "    df = pd.DataFrame.from_dict(prepared_dict)\n",
    "    df.columns = df.T[0].tolist()\n",
    "    df.drop(0, inplace=True)\n",
    "    df['inn'] = inn\n",
    "    df['year'] = year\n",
    "    df['last_update'] = last_update\n",
    "    df['uniq'] = str(inn)+str(year)+str(last_update)\n",
    "    return df"
   ]
  },
  {
   "cell_type": "code",
   "execution_count": null,
   "metadata": {},
   "outputs": [],
   "source": [
    "data_dir = os.path.dirname(os.getcwd()) + '\\\\data\\\\raw'\n",
    "file_list = os.listdir(data_dir)\n",
    "if 'indicators_of_financial_condition_year_inn.pickle' in file_list:\n",
    "    print('нашлось сохраненное indicators_of_financial_condition_year_inn')\n",
    "    with open('..\\\\data\\\\raw\\\\indicators_of_financial_condition_year_inn.pickle', 'rb') as f:\n",
    "        fin_indicators = pickle.load(f)\n",
    "    fin_indicators.reset_index(inplace=True)\n",
    "    fin_indicators.drop(['index'], axis=1, inplace=True)\n",
    "else:\n",
    "    fin_indicators = pd.DataFrame(columns=['sumRealEstate', 'sumRealEstateResidual', 'sumValuableProperty',\n",
    "       'sumValuablePropertyResidual', 'sumBalanceNoFinancial', 'cash',\n",
    "       'accountsCash', 'depositCash', 'others', 'sumDepthIncome',\n",
    "       'sumDepthExpenses', 'sumFinancialActives', 'debentures', 'kredit',\n",
    "       'sumDelayedPayable', 'sumObligations', 'inn', 'year', 'last_update'])\n",
    "    \n",
    "    for i in tqdm(range(len(vuz_inn_fin))):\n",
    "        inn = vuz_inn_fin['inn'][i]\n",
    "        #print(inn)\n",
    "        response = requests.get('https://bus.gov.ru/public-rest/api/epbs/fap.json?inn=' + inn)\n",
    "        data = response.json()\n",
    "        \n",
    "        #last_update_date = last_update_date_checking(data)\n",
    "        #print(last_update_date)\n",
    "        \n",
    "        #year_memory = [] # Например для 7303002000 несколько обновлений данный за один год. \n",
    "        # Не понятно как брать актуальное, так как дата обновления одна и та же. Берем первое вхождение, остальные пропускаем.\n",
    "        for j in range(len(data['content'])):\n",
    "            year = data['content'][j]['common']['financialYear']\n",
    "            last_update = data['content'][j]['common']['lastUpdate']\n",
    "            #last_update_for_year = last_update_date[year]\n",
    "            indicators_of_financial_condition = data['content'][j]['indicatorsOfFinancialCondition']\n",
    "            temp_df = dict2df(indicators_of_financial_condition, inn, year, last_update)\n",
    "            fin_indicators = fin_indicators.append(temp_df.iloc[0])\n",
    "\n",
    "\n",
    "    with open('..\\\\data\\\\raw\\\\indicators_of_financial_condition_year_inn.pickle', 'wb') as f:\n",
    "            pickle.dump(fin_indicators, f)"
   ]
  },
  {
   "cell_type": "code",
   "execution_count": null,
   "metadata": {},
   "outputs": [],
   "source": [
    "fin_indicators.head(5)"
   ]
  },
  {
   "cell_type": "code",
   "execution_count": null,
   "metadata": {},
   "outputs": [],
   "source": [
    "print('Итак, мы имеем для ',  len(vuz_inn_fin), ' вузов загруженные финансовые показатели за разные года.\\n', \\\n",
    "      'Все они собраны в ', len(fin_indicators), 'записи (строки).')"
   ]
  },
  {
   "cell_type": "code",
   "execution_count": null,
   "metadata": {},
   "outputs": [],
   "source": [
    "fin_indicators.info()"
   ]
  },
  {
   "cell_type": "markdown",
   "metadata": {},
   "source": [
    "Видно, что во всех столбцах, кроме inn, year, last_update есть пропущенные и нулевые значения."
   ]
  },
  {
   "cell_type": "code",
   "execution_count": null,
   "metadata": {},
   "outputs": [],
   "source": [
    "# удалим необязательные показатели\n",
    "optional_columns = ['sumDepthIncome', 'sumDepthExpenses', 'sumFinancialActives', 'sumObligations']\n",
    "fin_indicators.drop(optional_columns, axis=1, inplace=True)\n",
    "\n",
    "fin_indicators.reset_index(inplace=True)\n",
    "fin_indicators.drop(['index'], axis=1, inplace=True)\n",
    "\n",
    "fin_indicators.head()"
   ]
  },
  {
   "cell_type": "code",
   "execution_count": null,
   "metadata": {},
   "outputs": [],
   "source": [
    "# посмотрим, сколько записей есть для каждого года\n",
    "fin_indicators.groupby(['year']).count()['sumRealEstate'].to_dict()"
   ]
  },
  {
   "cell_type": "markdown",
   "metadata": {},
   "source": [
    "## 4.2. Блок planPaymentIndexes\n",
    "Показатели по поступлениям и выплатам учреждения (подразделения) (с 2017):\n",
    "\n"
   ]
  },
  {
   "cell_type": "code",
   "execution_count": null,
   "metadata": {},
   "outputs": [],
   "source": [
    "plan_payment_indexes_names = print_block_features_example('planPaymentIndexes')"
   ]
  },
  {
   "cell_type": "code",
   "execution_count": null,
   "metadata": {},
   "outputs": [],
   "source": [
    "data_dir = os.path.dirname(os.getcwd()) + '\\\\data\\\\raw'\n",
    "file_list = os.listdir(data_dir)\n",
    "if 'plan_payment_indexes_df.pickle' in file_list:\n",
    "    print('нашлось сохраненное plan_payment_indexes_df')\n",
    "    with open('..\\\\data\\\\raw\\\\plan_payment_indexes_df.pickle', 'rb') as f:\n",
    "        plan_payment_indexes_df = pickle.load(f)\n",
    "    plan_payment_indexes_df.reset_index(inplace=True)\n",
    "    plan_payment_indexes_df.drop(['index'], axis=1, inplace=True)\n",
    "else:\n",
    "    plan_payment_indexes_df = pd.DataFrame(columns=['plan_payment_indexes_0', 'plan_payment_indexes_1', \n",
    "                                           'plan_payment_indexes_2', 'plan_payment_indexes_3', \n",
    "                                           'plan_payment_indexes_4', 'plan_payment_indexes_5', \n",
    "                                           'plan_payment_indexes_6', 'plan_payment_indexes_7', \n",
    "                                           'plan_payment_indexes_8', 'plan_payment_indexes_9', \n",
    "                                           'plan_payment_indexes_10', 'plan_payment_indexes_11', \n",
    "                                           'plan_payment_indexes_12', 'plan_payment_indexes_13', \n",
    "                                           'plan_payment_indexes_14', 'plan_payment_indexes_15', \n",
    "                                           'plan_payment_indexes_16', 'plan_payment_indexes_17', \n",
    "                                           'plan_payment_indexes_18', 'plan_payment_indexes_19', \n",
    "                                           'plan_payment_indexes_20', 'plan_payment_indexes_21', \n",
    "                                           'plan_payment_indexes_22', 'plan_payment_indexes_23'])\n",
    "\n",
    "    for i in tqdm(range(len(vuz_inn_fin))):\n",
    "        inn = vuz_inn_fin['inn'][i]\n",
    "        response = requests.get('https://bus.gov.ru/public-rest/api/epbs/fap.json?inn=' + inn)\n",
    "        data = response.json()\n",
    "\n",
    "        for j in range(len(data['content'])):\n",
    "            year = data['content'][j]['common']['financialYear']\n",
    "            last_update = data['content'][j]['common']['lastUpdate']\n",
    "\n",
    "            plan_payment_indexes = data['content'][j]['planPaymentIndexes']\n",
    "\n",
    "            index_dict = dict.fromkeys(['plan_payment_indexes_' + str(kk) for kk in range(24)], np.nan)\n",
    "            for indexes in plan_payment_indexes:\n",
    "                num = 0\n",
    "                for index_names in plan_payment_indexes_names:\n",
    "                    if indexes['name']==index_names:\n",
    "                        index_dict['plan_payment_indexes_' + str(num)] = indexes['total']\n",
    "                        num+=1\n",
    "\n",
    "            temp_df = dict2df(index_dict, inn, year, last_update)\n",
    "            plan_payment_indexes_df = plan_payment_indexes_df.append(temp_df.iloc[0])\n",
    "\n",
    "\n",
    "    with open('..\\\\data\\\\raw\\\\plan_payment_indexes_df.pickle', 'wb') as f:\n",
    "                pickle.dump(plan_payment_indexes_df, f)"
   ]
  },
  {
   "cell_type": "markdown",
   "metadata": {},
   "source": [
    "# 4.3. Блок planPaymentIndexesMain"
   ]
  },
  {
   "cell_type": "code",
   "execution_count": null,
   "metadata": {},
   "outputs": [],
   "source": [
    "plan_payment_indexes_main_names = print_block_features_example('planPaymentIndexesMain')"
   ]
  },
  {
   "cell_type": "code",
   "execution_count": null,
   "metadata": {},
   "outputs": [],
   "source": [
    "data_dir = os.path.dirname(os.getcwd()) + '\\\\data\\\\raw'\n",
    "file_list = os.listdir(data_dir)\n",
    "if 'plan_payment_indexes_main_df.pickle' in file_list:\n",
    "    print('нашлось сохраненное plan_payment_indexes_main_df')\n",
    "    with open('..\\\\data\\\\raw\\\\plan_payment_indexes_main_df.pickle', 'rb') as f:\n",
    "        plan_payment_indexes_main_df = pickle.load(f)\n",
    "    plan_payment_indexes_main_df.reset_index(inplace=True)\n",
    "    plan_payment_indexes_main_df.drop(['index'], axis=1, inplace=True)\n",
    "else:\n",
    "    plan_payment_indexes_main_df = pd.DataFrame(columns=['plan_payment_indexes_main_0', 'plan_payment_indexes_main_1', \n",
    "                                           'plan_payment_indexes_main_2', 'plan_payment_indexes_main_3', \n",
    "                                           'plan_payment_indexes_main_4', 'plan_payment_indexes_main_5'])\n",
    "\n",
    "    for i in tqdm(range(len(vuz_inn_fin))):\n",
    "        inn = vuz_inn_fin['inn'][i]\n",
    "        response = requests.get('https://bus.gov.ru/public-rest/api/epbs/fap.json?inn=' + inn)\n",
    "        data = response.json()\n",
    "\n",
    "        for j in range(len(data['content'])):\n",
    "            year = data['content'][j]['common']['financialYear']\n",
    "            last_update = data['content'][j]['common']['lastUpdate']\n",
    "\n",
    "            plan_payment_indexes_main = data['content'][j]['planPaymentIndexesMain']\n",
    "\n",
    "            index_dict = dict.fromkeys(['plan_payment_indexes_main_' + str(kk) for kk in range(6)], np.nan)\n",
    "            for indexes in plan_payment_indexes_main:\n",
    "                num = 0\n",
    "                for index_names in plan_payment_indexes_main_names:\n",
    "                    if indexes['name']==index_names:\n",
    "                        index_dict['plan_payment_indexes_main_' + str(num)] = indexes['total']\n",
    "                        num+=1\n",
    "\n",
    "            temp_df = dict2df(index_dict, inn, year, last_update)\n",
    "            plan_payment_indexes_main_df = plan_payment_indexes_main_df.append(temp_df.iloc[0])\n",
    "\n",
    "\n",
    "    with open('..\\\\data\\\\raw\\\\plan_payment_indexes_main_df.pickle', 'wb') as f:\n",
    "                pickle.dump(plan_payment_indexes_main_df, f)"
   ]
  },
  {
   "cell_type": "markdown",
   "metadata": {},
   "source": [
    "## Блок expensePaymentIndexes"
   ]
  },
  {
   "cell_type": "code",
   "execution_count": null,
   "metadata": {},
   "outputs": [],
   "source": [
    "expense_payment_indexes_names = print_block_features_example('expensePaymentIndexes')"
   ]
  },
  {
   "cell_type": "code",
   "execution_count": null,
   "metadata": {},
   "outputs": [],
   "source": [
    "index_name_list = []\n",
    "for indexes_num in range(3):\n",
    "    index_name_list.append('nextYearFz44Sum' + str(indexes_num))\n",
    "    index_name_list.append('nextYearFz223Sum' + str(indexes_num))\n",
    "    index_name_list.append('nextYearTotalSum' + str(indexes_num))\n",
    "    index_name_list.append('firstPlanYearFz44Sum' + str(indexes_num))\n",
    "    index_name_list.append('firstPlanYearFz223Sum' + str(indexes_num))\n",
    "    index_name_list.append('firstPlanYearTotalSum' + str(indexes_num))\n",
    "    index_name_list.append('secondPlanYearFz44Sum' + str(indexes_num))\n",
    "    index_name_list.append('secondPlanYearFz223Sum' + str(indexes_num))\n",
    "    index_name_list.append('secondPlanYearTotalSum' + str(indexes_num))\n",
    "index_name_list"
   ]
  },
  {
   "cell_type": "code",
   "execution_count": null,
   "metadata": {},
   "outputs": [],
   "source": [
    "data_dir = os.path.dirname(os.getcwd()) + '\\\\data\\\\raw'\n",
    "file_list = os.listdir(data_dir)\n",
    "if 'expense_pyment_indexes_df.pickle' in file_list:\n",
    "    print('нашлось сохраненное expense_pyment_indexes_df')\n",
    "    with open('..\\\\data\\\\raw\\\\expense_pyment_indexes_df.pickle', 'rb') as f:\n",
    "        expense_pyment_indexes_df = pickle.load(f)\n",
    "    expense_pyment_indexes_df.reset_index(inplace=True)\n",
    "    expense_pyment_indexes_df.drop(['index'], axis=1, inplace=True)\n",
    "else:\n",
    "    expense_pyment_indexes_df = pd.DataFrame(columns=index_name_list)\n",
    "    \n",
    "    for i in tqdm(range(len(vuz_inn_fin))):\n",
    "        inn = vuz_inn_fin['inn'][i]\n",
    "        \n",
    "        session = requests.Session()\n",
    "        retry = Retry(connect=3, backoff_factor=0.5)\n",
    "        adapter = HTTPAdapter(max_retries=retry)\n",
    "        session.mount('http://', adapter)\n",
    "        session.mount('https://', adapter)\n",
    "\n",
    "        url = 'https://bus.gov.ru/public-rest/api/epbs/fap.json?inn=' + inn\n",
    "        response = session.get(url)\n",
    "        #response = requests.get()\n",
    "        data = response.json()\n",
    "\n",
    "        for j in range(len(data['content'])):\n",
    "            year = data['content'][j]['common']['financialYear']\n",
    "            last_update = data['content'][j]['common']['lastUpdate']\n",
    "\n",
    "            expense_pyment_indexes = data['content'][j]['expensePaymentIndexes']\n",
    "\n",
    "            index_dict = dict.fromkeys(index_name_list, np.nan)\n",
    "            \n",
    "            for indexes in expense_pyment_indexes:  \n",
    "                for indexes_num in range(3):\n",
    "                    if indexes['name']==expense_payment_indexes_names[indexes_num]:\n",
    "                        index_dict['nextYearFz44Sum' + str(indexes_num)] = indexes['nextYearFz44Sum']\n",
    "                        index_dict['nextYearFz223Sum' + str(indexes_num)] = indexes['nextYearFz223Sum']\n",
    "                        index_dict['nextYearTotalSum' + str(indexes_num)] = indexes['nextYearTotalSum']\n",
    "                        index_dict['firstPlanYearFz44Sum' + str(indexes_num)] = indexes['firstPlanYearFz44Sum']\n",
    "                        index_dict['firstPlanYearFz223Sum' + str(indexes_num)] = indexes['firstPlanYearFz223Sum']\n",
    "                        index_dict['firstPlanYearTotalSum' + str(indexes_num)] = indexes['firstPlanYearTotalSum']\n",
    "                        index_dict['secondPlanYearFz44Sum' + str(indexes_num)] = indexes['secondPlanYearFz44Sum']\n",
    "                        index_dict['secondPlanYearFz223Sum' + str(indexes_num)] = indexes['secondPlanYearFz223Sum']\n",
    "                        index_dict['secondPlanYearTotalSum' + str(indexes_num)] = indexes['secondPlanYearTotalSum']\n",
    "\n",
    "            temp_df = dict2df(index_dict, inn, year, last_update)\n",
    "            expense_pyment_indexes_df = expense_pyment_indexes_df.append(temp_df.iloc[0])\n",
    "\n",
    "\n",
    "    with open('..\\\\data\\\\raw\\\\expense_pyment_indexes_df.pickle', 'wb') as f:\n",
    "                pickle.dump(expense_pyment_indexes_df, f)"
   ]
  },
  {
   "cell_type": "code",
   "execution_count": null,
   "metadata": {},
   "outputs": [],
   "source": [
    "expense_pyment_indexes_df.head()"
   ]
  },
  {
   "cell_type": "markdown",
   "metadata": {},
   "source": [
    "## Блок temporaryResourcesList"
   ]
  },
  {
   "cell_type": "code",
   "execution_count": null,
   "metadata": {},
   "outputs": [],
   "source": [
    "temporary_resources_list_names = temporary_resources_list_indexes_names = print_block_features_example('temporaryResourcesList')"
   ]
  },
  {
   "cell_type": "code",
   "execution_count": null,
   "metadata": {},
   "outputs": [],
   "source": [
    "data_dir = os.path.dirname(os.getcwd()) + '\\\\data\\\\raw'\n",
    "file_list = os.listdir(data_dir)\n",
    "if 'temporary_resources_list_df.pickle' in file_list:\n",
    "    print('нашлось сохраненное temporary_resources_list_df')\n",
    "    with open('..\\\\data\\\\raw\\\\temporary_resources_list_df.pickle', 'rb') as f:\n",
    "        temporary_resources_list_df = pickle.load(f)\n",
    "    temporary_resources_list_df.reset_index(inplace=True)\n",
    "    temporary_resources_list_df.drop(['index'], axis=1, inplace=True)\n",
    "else:\n",
    "    temporary_resources_list_df = pd.DataFrame(columns=['temporary_resources_list_0', 'temporary_resources_list_1', \n",
    "                                           'temporary_resources_list_2', 'temporary_resources_list_3'])\n",
    "\n",
    "    for i in tqdm(range(len(vuz_inn_fin))):\n",
    "        inn = vuz_inn_fin['inn'][i]\n",
    "        \n",
    "        session = requests.Session()\n",
    "        retry = Retry(connect=3, backoff_factor=0.5)\n",
    "        adapter = HTTPAdapter(max_retries=retry)\n",
    "        session.mount('http://', adapter)\n",
    "        session.mount('https://', adapter)\n",
    "\n",
    "        url = 'https://bus.gov.ru/public-rest/api/epbs/fap.json?inn=' + inn\n",
    "        response = session.get(url)\n",
    "        data = response.json()\n",
    "\n",
    "        for j in range(len(data['content'])):\n",
    "            year = data['content'][j]['common']['financialYear']\n",
    "            last_update = data['content'][j]['common']['lastUpdate']\n",
    "\n",
    "            temporary_resources_list = data['content'][j]['temporaryResourcesList']\n",
    "\n",
    "            index_dict = dict.fromkeys(['temporary_resources_list_' + str(kk) for kk in range(len(temporary_resources_list_names))], np.nan)\n",
    "            for indexes in temporary_resources_list:\n",
    "                num = 0\n",
    "                for index_names in temporary_resources_list_names:\n",
    "                    if indexes['name']==index_names:\n",
    "                        index_dict['temporary_resources_list_' + str(num)] = indexes['total']\n",
    "                        num+=1\n",
    "\n",
    "            temp_df = dict2df(index_dict, inn, year, last_update)\n",
    "            temporary_resources_list_df = temporary_resources_list_df.append(temp_df.iloc[0])\n",
    "\n",
    "\n",
    "    with open('..\\\\data\\\\raw\\\\temporary_resources_list_df.pickle', 'wb') as f:\n",
    "                pickle.dump(temporary_resources_list_df, f)"
   ]
  },
  {
   "cell_type": "markdown",
   "metadata": {},
   "source": [
    "# Объединим все заруженные данные в один df\n",
    "- fin_indicators\n",
    "- plan_payment_indexes_df\n",
    "- plan_payment_indexes_main_df\n",
    "- expense_pyment_indexes_df\n",
    "- temporary_resources_list_df"
   ]
  },
  {
   "cell_type": "code",
   "execution_count": null,
   "metadata": {},
   "outputs": [],
   "source": [
    "print(fin_indicators.shape, \\\n",
    "     plan_payment_indexes_df.shape, \\\n",
    "     plan_payment_indexes_main_df.shape, \\\n",
    "     expense_pyment_indexes_df.shape, \\\n",
    "     temporary_resources_list_df.shape)"
   ]
  },
  {
   "cell_type": "code",
   "execution_count": null,
   "metadata": {},
   "outputs": [],
   "source": [
    "sum(plan_payment_indexes_df['uniq']==fin_indicators['uniq'])"
   ]
  },
  {
   "cell_type": "code",
   "execution_count": null,
   "metadata": {},
   "outputs": [],
   "source": [
    "plan_payment_indexes_df.drop(['inn', 'year', 'last_update', 'uniq'], inplace=True, axis=1)\n",
    "plan_payment_indexes_main_df.drop(['inn', 'year', 'last_update', 'uniq'], inplace=True, axis=1)\n",
    "expense_pyment_indexes_df.drop(['inn', 'year', 'last_update', 'uniq'], inplace=True, axis=1)\n",
    "temporary_resources_list_df.drop(['inn', 'year', 'last_update', 'uniq'], inplace=True, axis=1)"
   ]
  },
  {
   "cell_type": "code",
   "execution_count": null,
   "metadata": {},
   "outputs": [],
   "source": [
    "all_indicators = pd.concat([fin_indicators, \\\n",
    "                            plan_payment_indexes_df, \\\n",
    "                            plan_payment_indexes_main_df, \\\n",
    "                            expense_pyment_indexes_df, \\\n",
    "                            temporary_resources_list_df], axis=1)"
   ]
  },
  {
   "cell_type": "code",
   "execution_count": null,
   "metadata": {},
   "outputs": [],
   "source": [
    "all_indicators.drop(['uniq'], inplace=True, axis=1)"
   ]
  },
  {
   "cell_type": "code",
   "execution_count": null,
   "metadata": {},
   "outputs": [],
   "source": [
    "all_indicators.shape"
   ]
  },
  {
   "cell_type": "code",
   "execution_count": null,
   "metadata": {},
   "outputs": [],
   "source": [
    "all_indicators.columns"
   ]
  },
  {
   "cell_type": "code",
   "execution_count": null,
   "metadata": {},
   "outputs": [],
   "source": [
    "with open('..\\\\data\\\\raw\\\\all_indicators.pickle', 'wb') as f:\n",
    "                pickle.dump(all_indicators, f)"
   ]
  },
  {
   "cell_type": "code",
   "execution_count": null,
   "metadata": {},
   "outputs": [],
   "source": []
  }
 ],
 "metadata": {
  "kernelspec": {
   "display_name": "Python 3",
   "language": "python",
   "name": "python3"
  },
  "language_info": {
   "codemirror_mode": {
    "name": "ipython",
    "version": 3
   },
   "file_extension": ".py",
   "mimetype": "text/x-python",
   "name": "python",
   "nbconvert_exporter": "python",
   "pygments_lexer": "ipython3",
   "version": "3.7.1"
  }
 },
 "nbformat": 4,
 "nbformat_minor": 2
}
