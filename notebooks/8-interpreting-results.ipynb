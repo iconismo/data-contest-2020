{
 "cells": [
  {
   "cell_type": "code",
   "execution_count": 1,
   "metadata": {},
   "outputs": [],
   "source": [
    "from sklearn.tree import export_text\n",
    "from sklearn.tree import DecisionTreeClassifier\n",
    "\n",
    "import pandas as pd\n",
    "\n",
    "import pickle\n",
    "\n",
    "from sklearn.cluster import AgglomerativeClustering"
   ]
  },
  {
   "cell_type": "code",
   "execution_count": 2,
   "metadata": {},
   "outputs": [],
   "source": [
    "with open('..\\\\data\\\\processed\\\\X_scaled.pickle', 'rb') as f:\n",
    "    X_scaled = pickle.load(f)\n",
    "f.close()"
   ]
  },
  {
   "cell_type": "code",
   "execution_count": 3,
   "metadata": {},
   "outputs": [],
   "source": [
    "with open('..\\\\data\\\\interim\\\\X_2018.pickle', 'rb') as f:\n",
    "    X = pickle.load(f)\n",
    "f.close()"
   ]
  },
  {
   "cell_type": "markdown",
   "metadata": {},
   "source": [
    "# 1. Интерпретация разбиения на разное количество кластеров"
   ]
  },
  {
   "cell_type": "code",
   "execution_count": 4,
   "metadata": {},
   "outputs": [],
   "source": [
    "def print_inerpretation(n_clusters, X_scaled, X):\n",
    "    model = AgglomerativeClustering(n_clusters)\n",
    "    model = model.fit(X_scaled)\n",
    "    \n",
    "    estimator = DecisionTreeClassifier(random_state=0)\n",
    "    estimator.fit(X, model.labels_)\n",
    "    \n",
    "    tree_rules = export_text(estimator, feature_names=list(X.columns), max_depth=30)\n",
    "    print(tree_rules)"
   ]
  },
  {
   "cell_type": "markdown",
   "metadata": {},
   "source": [
    "## 1.1. Если разбить на 2 кластера"
   ]
  },
  {
   "cell_type": "code",
   "execution_count": 5,
   "metadata": {},
   "outputs": [
    {
     "name": "stdout",
     "output_type": "stream",
     "text": [
      "|--- firstPlanYearFz223Sum0 <= 3063244928.00\n",
      "|   |--- class: 0\n",
      "|--- firstPlanYearFz223Sum0 >  3063244928.00\n",
      "|   |--- class: 1\n",
      "\n"
     ]
    }
   ],
   "source": [
    "print_inerpretation(2, X_scaled, X)"
   ]
  },
  {
   "cell_type": "markdown",
   "metadata": {},
   "source": [
    "## 1.2. Если разбить на 3 кластера"
   ]
  },
  {
   "cell_type": "code",
   "execution_count": 6,
   "metadata": {},
   "outputs": [
    {
     "name": "stdout",
     "output_type": "stream",
     "text": [
      "|--- nextYearFz223Sum1 <= 112182380.00\n",
      "|   |--- temporary_resources_list_0 <= 128648024.00\n",
      "|   |   |--- sumBalanceNoFinancial <= 46674556416.00\n",
      "|   |   |   |--- kredit <= 1010318144.00\n",
      "|   |   |   |   |--- sumValuablePropertyResidual <= 4222582784.00\n",
      "|   |   |   |   |   |--- class: 2\n",
      "|   |   |   |   |--- sumValuablePropertyResidual >  4222582784.00\n",
      "|   |   |   |   |   |--- class: 0\n",
      "|   |   |   |--- kredit >  1010318144.00\n",
      "|   |   |   |   |--- class: 0\n",
      "|   |   |--- sumBalanceNoFinancial >  46674556416.00\n",
      "|   |   |   |--- class: 0\n",
      "|   |--- temporary_resources_list_0 >  128648024.00\n",
      "|   |   |--- class: 0\n",
      "|--- nextYearFz223Sum1 >  112182380.00\n",
      "|   |--- temporary_resources_list_0 <= 4831676.25\n",
      "|   |   |--- firstPlanYearTotalSum2 <= 2141585024.00\n",
      "|   |   |   |--- class: 2\n",
      "|   |   |--- firstPlanYearTotalSum2 >  2141585024.00\n",
      "|   |   |   |--- class: 1\n",
      "|   |--- temporary_resources_list_0 >  4831676.25\n",
      "|   |   |--- class: 0\n",
      "\n"
     ]
    }
   ],
   "source": [
    "print_inerpretation(3, X_scaled, X)"
   ]
  },
  {
   "cell_type": "markdown",
   "metadata": {},
   "source": [
    "## 1.3. Если разбить на 4 кластера"
   ]
  },
  {
   "cell_type": "code",
   "execution_count": 7,
   "metadata": {},
   "outputs": [
    {
     "name": "stdout",
     "output_type": "stream",
     "text": [
      "|--- nextYearFz223Sum1 <= 112182380.00\n",
      "|   |--- temporary_resources_list_0 <= 128648024.00\n",
      "|   |   |--- sumBalanceNoFinancial <= 46674556416.00\n",
      "|   |   |   |--- kredit <= 1010318144.00\n",
      "|   |   |   |   |--- sumValuablePropertyResidual <= 4222582784.00\n",
      "|   |   |   |   |   |--- class: 2\n",
      "|   |   |   |   |--- sumValuablePropertyResidual >  4222582784.00\n",
      "|   |   |   |   |   |--- class: 0\n",
      "|   |   |   |--- kredit >  1010318144.00\n",
      "|   |   |   |   |--- class: 0\n",
      "|   |   |--- sumBalanceNoFinancial >  46674556416.00\n",
      "|   |   |   |--- class: 0\n",
      "|   |--- temporary_resources_list_0 >  128648024.00\n",
      "|   |   |--- class: 0\n",
      "|--- nextYearFz223Sum1 >  112182380.00\n",
      "|   |--- temporary_resources_list_0 <= 4831676.25\n",
      "|   |   |--- firstPlanYearTotalSum2 <= 2141585024.00\n",
      "|   |   |   |--- class: 2\n",
      "|   |   |--- firstPlanYearTotalSum2 >  2141585024.00\n",
      "|   |   |   |--- class: 3\n",
      "|   |--- temporary_resources_list_0 >  4831676.25\n",
      "|   |   |--- nextYearFz44Sum2 <= 556910784.00\n",
      "|   |   |   |--- class: 0\n",
      "|   |   |--- nextYearFz44Sum2 >  556910784.00\n",
      "|   |   |   |--- class: 1\n",
      "\n"
     ]
    }
   ],
   "source": [
    "print_inerpretation(4, X_scaled, X)"
   ]
  },
  {
   "cell_type": "markdown",
   "metadata": {},
   "source": [
    "## 1.4. Если разбить на 5 кластера"
   ]
  },
  {
   "cell_type": "code",
   "execution_count": 8,
   "metadata": {},
   "outputs": [
    {
     "name": "stdout",
     "output_type": "stream",
     "text": [
      "|--- nextYearFz223Sum1 <= 112182380.00\n",
      "|   |--- temporary_resources_list_0 <= 128648024.00\n",
      "|   |   |--- sumBalanceNoFinancial <= 46674556416.00\n",
      "|   |   |   |--- kredit <= 1010318144.00\n",
      "|   |   |   |   |--- sumValuablePropertyResidual <= 4222582784.00\n",
      "|   |   |   |   |   |--- class: 2\n",
      "|   |   |   |   |--- sumValuablePropertyResidual >  4222582784.00\n",
      "|   |   |   |   |   |--- class: 0\n",
      "|   |   |   |--- kredit >  1010318144.00\n",
      "|   |   |   |   |--- class: 0\n",
      "|   |   |--- sumBalanceNoFinancial >  46674556416.00\n",
      "|   |   |   |--- class: 1\n",
      "|   |--- temporary_resources_list_0 >  128648024.00\n",
      "|   |   |--- class: 0\n",
      "|--- nextYearFz223Sum1 >  112182380.00\n",
      "|   |--- temporary_resources_list_0 <= 4831676.25\n",
      "|   |   |--- firstPlanYearTotalSum2 <= 2141585024.00\n",
      "|   |   |   |--- class: 2\n",
      "|   |   |--- firstPlanYearTotalSum2 >  2141585024.00\n",
      "|   |   |   |--- class: 3\n",
      "|   |--- temporary_resources_list_0 >  4831676.25\n",
      "|   |   |--- nextYearFz44Sum2 <= 556910784.00\n",
      "|   |   |   |--- class: 0\n",
      "|   |   |--- nextYearFz44Sum2 >  556910784.00\n",
      "|   |   |   |--- class: 4\n",
      "\n"
     ]
    }
   ],
   "source": [
    "print_inerpretation(5, X_scaled, X)"
   ]
  },
  {
   "cell_type": "markdown",
   "metadata": {},
   "source": [
    "# 2. Интрепретация группы вузов с аномальными показателями"
   ]
  },
  {
   "cell_type": "code",
   "execution_count": 9,
   "metadata": {},
   "outputs": [],
   "source": [
    "with open('..\\\\data\\\\interim\\\\IS_OUT.pickle', 'rb') as f:\n",
    "    IS_OUT = pickle.load(f)\n",
    "f.close()"
   ]
  },
  {
   "cell_type": "code",
   "execution_count": 10,
   "metadata": {},
   "outputs": [
    {
     "data": {
      "text/plain": [
       "DecisionTreeClassifier(random_state=0)"
      ]
     },
     "execution_count": 10,
     "metadata": {},
     "output_type": "execute_result"
    }
   ],
   "source": [
    "estimator = DecisionTreeClassifier(random_state=0)\n",
    "estimator.fit(X, IS_OUT)"
   ]
  },
  {
   "cell_type": "code",
   "execution_count": 11,
   "metadata": {},
   "outputs": [],
   "source": [
    "tree_rules = export_text(estimator, feature_names=list(X.columns), max_depth=30)"
   ]
  },
  {
   "cell_type": "code",
   "execution_count": 12,
   "metadata": {},
   "outputs": [
    {
     "name": "stdout",
     "output_type": "stream",
     "text": [
      "|--- firstPlanYearTotalSum0 <= 160013336.00\n",
      "|   |--- sumRealEstate <= 1676853824.00\n",
      "|   |   |--- cash <= 112187580.00\n",
      "|   |   |   |--- nextYearTotalSum0 <= 451219584.00\n",
      "|   |   |   |   |--- kredit <= 195985976.00\n",
      "|   |   |   |   |   |--- sumValuableProperty <= 342385072.00\n",
      "|   |   |   |   |   |   |--- temporary_resources_list_0 <= 197021000.00\n",
      "|   |   |   |   |   |   |   |--- class: 1\n",
      "|   |   |   |   |   |   |--- temporary_resources_list_0 >  197021000.00\n",
      "|   |   |   |   |   |   |   |--- class: -1\n",
      "|   |   |   |   |   |--- sumValuableProperty >  342385072.00\n",
      "|   |   |   |   |   |   |--- plan_payment_indexes_0 <= 4620775.50\n",
      "|   |   |   |   |   |   |   |--- class: 1\n",
      "|   |   |   |   |   |   |--- plan_payment_indexes_0 >  4620775.50\n",
      "|   |   |   |   |   |   |   |--- class: -1\n",
      "|   |   |   |   |--- kredit >  195985976.00\n",
      "|   |   |   |   |   |--- secondPlanYearTotalSum2 <= 149958576.00\n",
      "|   |   |   |   |   |   |--- class: -1\n",
      "|   |   |   |   |   |--- secondPlanYearTotalSum2 >  149958576.00\n",
      "|   |   |   |   |   |   |--- class: 1\n",
      "|   |   |   |--- nextYearTotalSum0 >  451219584.00\n",
      "|   |   |   |   |--- class: -1\n",
      "|   |   |--- cash >  112187580.00\n",
      "|   |   |   |--- sumRealEstateResidual <= 65470000.00\n",
      "|   |   |   |   |--- class: 1\n",
      "|   |   |   |--- sumRealEstateResidual >  65470000.00\n",
      "|   |   |   |   |--- class: -1\n",
      "|   |--- sumRealEstate >  1676853824.00\n",
      "|   |   |--- class: -1\n",
      "|--- firstPlanYearTotalSum0 >  160013336.00\n",
      "|   |--- nextYearTotalSum0 <= 173053184.00\n",
      "|   |   |--- secondPlanYearTotalSum0 <= 161302136.00\n",
      "|   |   |   |--- firstPlanYearFz44Sum0 <= 145428660.00\n",
      "|   |   |   |   |--- class: -1\n",
      "|   |   |   |--- firstPlanYearFz44Sum0 >  145428660.00\n",
      "|   |   |   |   |--- class: 1\n",
      "|   |   |--- secondPlanYearTotalSum0 >  161302136.00\n",
      "|   |   |   |--- class: 1\n",
      "|   |--- nextYearTotalSum0 >  173053184.00\n",
      "|   |   |--- sumBalanceNoFinancial <= 843332.69\n",
      "|   |   |   |--- firstPlanYearFz44Sum0 <= 85064392.00\n",
      "|   |   |   |   |--- class: -1\n",
      "|   |   |   |--- firstPlanYearFz44Sum0 >  85064392.00\n",
      "|   |   |   |   |--- class: 1\n",
      "|   |   |--- sumBalanceNoFinancial >  843332.69\n",
      "|   |   |   |--- nextYearTotalSum0 <= 210297432.00\n",
      "|   |   |   |   |--- sumRealEstate <= 537236480.00\n",
      "|   |   |   |   |   |--- class: 1\n",
      "|   |   |   |   |--- sumRealEstate >  537236480.00\n",
      "|   |   |   |   |   |--- class: -1\n",
      "|   |   |   |--- nextYearTotalSum0 >  210297432.00\n",
      "|   |   |   |   |--- nextYearTotalSum2 <= 132770068.00\n",
      "|   |   |   |   |   |--- firstPlanYearFz223Sum2 <= 51326038.00\n",
      "|   |   |   |   |   |   |--- class: -1\n",
      "|   |   |   |   |   |--- firstPlanYearFz223Sum2 >  51326038.00\n",
      "|   |   |   |   |   |   |--- class: 1\n",
      "|   |   |   |   |--- nextYearTotalSum2 >  132770068.00\n",
      "|   |   |   |   |   |--- class: -1\n",
      "\n"
     ]
    }
   ],
   "source": [
    "print(tree_rules)"
   ]
  }
 ],
 "metadata": {
  "kernelspec": {
   "display_name": "Python 3",
   "language": "python",
   "name": "python3"
  },
  "language_info": {
   "codemirror_mode": {
    "name": "ipython",
    "version": 3
   },
   "file_extension": ".py",
   "mimetype": "text/x-python",
   "name": "python",
   "nbconvert_exporter": "python",
   "pygments_lexer": "ipython3",
   "version": "3.7.1"
  }
 },
 "nbformat": 4,
 "nbformat_minor": 2
}
