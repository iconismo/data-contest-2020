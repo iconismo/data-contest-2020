{
 "cells": [
  {
   "cell_type": "markdown",
   "metadata": {},
   "source": [
    "## 1. ИНН и названия ВУЗов \n",
    "Реестр организаций, осуществляющих образовательную деятельность по имеющим государственную аккредитацию образовательным программам http://obrnadzor.gov.ru/ru/opendata/7701537808-RAOO/"
   ]
  },
  {
   "cell_type": "code",
   "execution_count": 38,
   "metadata": {},
   "outputs": [
    {
     "name": "stdout",
     "output_type": "stream",
     "text": [
      "The pycodestyle_magic extension is already loaded. To reload it, use:\n",
      "  %reload_ext pycodestyle_magic\n"
     ]
    }
   ],
   "source": [
    "import xml.etree.ElementTree as et\n",
    "import pandas as pd\n",
    "import pickle\n",
    "import numpy as np\n",
    "import matplotlib.pyplot as plt\n",
    "import seaborn as sns\n",
    "%load_ext pycodestyle_magic\n",
    "%pycodestyle_on"
   ]
  },
  {
   "cell_type": "code",
   "execution_count": 2,
   "metadata": {},
   "outputs": [],
   "source": [
    "xml_file_name = 'obrnadzorgovru-data-20201119-structure-20160713.xml'\n",
    "xml_file_path = '..\\\\data\\\\external\\\\' + xml_file_name"
   ]
  },
  {
   "cell_type": "code",
   "execution_count": 3,
   "metadata": {},
   "outputs": [],
   "source": [
    "tree = et.parse(xml_file_path)\n",
    "root = tree.getroot()"
   ]
  },
  {
   "cell_type": "code",
   "execution_count": 4,
   "metadata": {},
   "outputs": [
    {
     "name": "stdout",
     "output_type": "stream",
     "text": [
      "Всего организаций 91576\n"
     ]
    }
   ],
   "source": [
    "print('Всего организаций', len(root[0]))"
   ]
  },
  {
   "cell_type": "markdown",
   "metadata": {},
   "source": [
    "## 1.1. Общие данные\n",
    "- StatusName - Текущий статус свидетельства\n",
    "- TypeName - Вид свидетельства\n",
    "- RegionName - Субъект РФ\n",
    "- RegionCode - Код Субъекта РФ"
   ]
  },
  {
   "cell_type": "code",
   "execution_count": 5,
   "metadata": {},
   "outputs": [],
   "source": [
    "rows = []\n",
    "for i in root.findall(\"./Certificates/Certificate\"):\n",
    "    status_name = getattr(i.find('StatusName'), 'text', None)\n",
    "    region_name = getattr(i.find('RegionName'), 'text', None)\n",
    "    region_code = getattr(i.find('RegionCode'), 'text', None)\n",
    "    rows.append({'status_name': status_name,\n",
    "                 'region_name': region_name,\n",
    "                 'region_code': region_code})"
   ]
  },
  {
   "cell_type": "code",
   "execution_count": 6,
   "metadata": {},
   "outputs": [],
   "source": [
    "df_cols = ['status_name', 'region_name', 'region_code']\n",
    "out_df_certificate = pd.DataFrame(rows, columns=df_cols)"
   ]
  },
  {
   "cell_type": "code",
   "execution_count": 7,
   "metadata": {},
   "outputs": [
    {
     "data": {
      "text/html": [
       "<div>\n",
       "<style scoped>\n",
       "    .dataframe tbody tr th:only-of-type {\n",
       "        vertical-align: middle;\n",
       "    }\n",
       "\n",
       "    .dataframe tbody tr th {\n",
       "        vertical-align: top;\n",
       "    }\n",
       "\n",
       "    .dataframe thead th {\n",
       "        text-align: right;\n",
       "    }\n",
       "</style>\n",
       "<table border=\"1\" class=\"dataframe\">\n",
       "  <thead>\n",
       "    <tr style=\"text-align: right;\">\n",
       "      <th></th>\n",
       "      <th>status_name</th>\n",
       "      <th>region_name</th>\n",
       "      <th>region_code</th>\n",
       "    </tr>\n",
       "  </thead>\n",
       "  <tbody>\n",
       "    <tr>\n",
       "      <th>0</th>\n",
       "      <td>Недействующее</td>\n",
       "      <td>Тверская область</td>\n",
       "      <td>69</td>\n",
       "    </tr>\n",
       "    <tr>\n",
       "      <th>1</th>\n",
       "      <td>Действующее</td>\n",
       "      <td>Свердловская область</td>\n",
       "      <td>66</td>\n",
       "    </tr>\n",
       "    <tr>\n",
       "      <th>2</th>\n",
       "      <td>Действующее</td>\n",
       "      <td>Нижегородская область</td>\n",
       "      <td>52</td>\n",
       "    </tr>\n",
       "    <tr>\n",
       "      <th>3</th>\n",
       "      <td>Недействующее</td>\n",
       "      <td>Иркутская область</td>\n",
       "      <td>38</td>\n",
       "    </tr>\n",
       "    <tr>\n",
       "      <th>4</th>\n",
       "      <td>Недействующее</td>\n",
       "      <td>г. Москва</td>\n",
       "      <td>77</td>\n",
       "    </tr>\n",
       "  </tbody>\n",
       "</table>\n",
       "</div>"
      ],
      "text/plain": [
       "     status_name            region_name region_code\n",
       "0  Недействующее       Тверская область          69\n",
       "1    Действующее   Свердловская область          66\n",
       "2    Действующее  Нижегородская область          52\n",
       "3  Недействующее      Иркутская область          38\n",
       "4  Недействующее              г. Москва          77"
      ]
     },
     "execution_count": 7,
     "metadata": {},
     "output_type": "execute_result"
    }
   ],
   "source": [
    "out_df_certificate.head()"
   ]
  },
  {
   "cell_type": "markdown",
   "metadata": {},
   "source": [
    "## 1.2. Данные из раздела ActualEducationOrganization"
   ]
  },
  {
   "cell_type": "markdown",
   "metadata": {},
   "source": [
    "- FullName - Полное наименование\n",
    "- PostAddress - Юридический адрес организации\n",
    "- INN - ИНН\n",
    "- FormName - Организационно правовая форма"
   ]
  },
  {
   "cell_type": "code",
   "execution_count": 9,
   "metadata": {},
   "outputs": [],
   "source": [
    "rows = []\n",
    "actual_path = \"./Certificates/Certificate/ActualEducationOrganization\"\n",
    "for i in root.findall(actual_path):\n",
    "    full_name = getattr(i.find('FullName'), 'text', None)\n",
    "    post_address = getattr(i.find('PostAddress'), 'text', None)\n",
    "    ogrn = getattr(i.find('OGRN'), 'text', None)\n",
    "    inn = getattr(i.find('INN'), 'text', None)\n",
    "    form_name = getattr(i.find('FormName'), 'text', None)\n",
    "    rows.append({'full_name': full_name,\n",
    "                 'post_address': post_address,\n",
    "                 'inn': inn,\n",
    "                 'form_name': form_name})"
   ]
  },
  {
   "cell_type": "code",
   "execution_count": 10,
   "metadata": {},
   "outputs": [],
   "source": [
    "df_cols = ['full_name',\n",
    "           'post_address',\n",
    "           'inn',\n",
    "           'form_name']\n",
    "out_df_actual_education_organization = pd.DataFrame(rows, columns=df_cols)"
   ]
  },
  {
   "cell_type": "code",
   "execution_count": 11,
   "metadata": {},
   "outputs": [
    {
     "data": {
      "text/html": [
       "<div>\n",
       "<style scoped>\n",
       "    .dataframe tbody tr th:only-of-type {\n",
       "        vertical-align: middle;\n",
       "    }\n",
       "\n",
       "    .dataframe tbody tr th {\n",
       "        vertical-align: top;\n",
       "    }\n",
       "\n",
       "    .dataframe thead th {\n",
       "        text-align: right;\n",
       "    }\n",
       "</style>\n",
       "<table border=\"1\" class=\"dataframe\">\n",
       "  <thead>\n",
       "    <tr style=\"text-align: right;\">\n",
       "      <th></th>\n",
       "      <th>full_name</th>\n",
       "      <th>post_address</th>\n",
       "      <th>inn</th>\n",
       "      <th>form_name</th>\n",
       "    </tr>\n",
       "  </thead>\n",
       "  <tbody>\n",
       "    <tr>\n",
       "      <th>0</th>\n",
       "      <td>Муниципальное бюджетное общеобразовательное уч...</td>\n",
       "      <td>ул. Школьная, дом 18, с. Кемцы, Бологовский ра...</td>\n",
       "      <td>6907006968</td>\n",
       "      <td>None</td>\n",
       "    </tr>\n",
       "    <tr>\n",
       "      <th>1</th>\n",
       "      <td>Муниципальное казенное образовательное учрежде...</td>\n",
       "      <td>623506, Богдановичский район, с.Каменноозерско...</td>\n",
       "      <td>6605006658</td>\n",
       "      <td>None</td>\n",
       "    </tr>\n",
       "    <tr>\n",
       "      <th>2</th>\n",
       "      <td>Муниципальное бюджетное общеобразовательное уч...</td>\n",
       "      <td>607047. Нижегородская область, город Выкса, се...</td>\n",
       "      <td>5247014774</td>\n",
       "      <td>None</td>\n",
       "    </tr>\n",
       "    <tr>\n",
       "      <th>3</th>\n",
       "      <td>Муниципальное казённое общеобразовательное учр...</td>\n",
       "      <td>666820 Иркутская область, Мамско-Чуйский район...</td>\n",
       "      <td>3802008384</td>\n",
       "      <td>None</td>\n",
       "    </tr>\n",
       "    <tr>\n",
       "      <th>4</th>\n",
       "      <td>Образовательное частное учреждение высшего обр...</td>\n",
       "      <td>127299, г. Москва, ул. Космонавта Волкова, д. 20</td>\n",
       "      <td>7720006383</td>\n",
       "      <td>Частные учреждения</td>\n",
       "    </tr>\n",
       "  </tbody>\n",
       "</table>\n",
       "</div>"
      ],
      "text/plain": [
       "                                           full_name  \\\n",
       "0  Муниципальное бюджетное общеобразовательное уч...   \n",
       "1  Муниципальное казенное образовательное учрежде...   \n",
       "2  Муниципальное бюджетное общеобразовательное уч...   \n",
       "3  Муниципальное казённое общеобразовательное учр...   \n",
       "4  Образовательное частное учреждение высшего обр...   \n",
       "\n",
       "                                        post_address         inn  \\\n",
       "0  ул. Школьная, дом 18, с. Кемцы, Бологовский ра...  6907006968   \n",
       "1  623506, Богдановичский район, с.Каменноозерско...  6605006658   \n",
       "2  607047. Нижегородская область, город Выкса, се...  5247014774   \n",
       "3  666820 Иркутская область, Мамско-Чуйский район...  3802008384   \n",
       "4   127299, г. Москва, ул. Космонавта Волкова, д. 20  7720006383   \n",
       "\n",
       "            form_name  \n",
       "0                None  \n",
       "1                None  \n",
       "2                None  \n",
       "3                None  \n",
       "4  Частные учреждения  "
      ]
     },
     "execution_count": 11,
     "metadata": {},
     "output_type": "execute_result"
    }
   ],
   "source": [
    "out_df_actual_education_organization.head()"
   ]
  },
  {
   "cell_type": "markdown",
   "metadata": {},
   "source": [
    "## 1.3. Объединим"
   ]
  },
  {
   "cell_type": "code",
   "execution_count": 12,
   "metadata": {},
   "outputs": [],
   "source": [
    "df = pd.concat((out_df_certificate,\n",
    "                out_df_actual_education_organization),\n",
    "               axis=1)"
   ]
  },
  {
   "cell_type": "code",
   "execution_count": 13,
   "metadata": {},
   "outputs": [
    {
     "data": {
      "text/html": [
       "<div>\n",
       "<style scoped>\n",
       "    .dataframe tbody tr th:only-of-type {\n",
       "        vertical-align: middle;\n",
       "    }\n",
       "\n",
       "    .dataframe tbody tr th {\n",
       "        vertical-align: top;\n",
       "    }\n",
       "\n",
       "    .dataframe thead th {\n",
       "        text-align: right;\n",
       "    }\n",
       "</style>\n",
       "<table border=\"1\" class=\"dataframe\">\n",
       "  <thead>\n",
       "    <tr style=\"text-align: right;\">\n",
       "      <th></th>\n",
       "      <th>status_name</th>\n",
       "      <th>region_name</th>\n",
       "      <th>region_code</th>\n",
       "      <th>full_name</th>\n",
       "      <th>post_address</th>\n",
       "      <th>inn</th>\n",
       "      <th>form_name</th>\n",
       "    </tr>\n",
       "  </thead>\n",
       "  <tbody>\n",
       "    <tr>\n",
       "      <th>0</th>\n",
       "      <td>Недействующее</td>\n",
       "      <td>Тверская область</td>\n",
       "      <td>69</td>\n",
       "      <td>Муниципальное бюджетное общеобразовательное уч...</td>\n",
       "      <td>ул. Школьная, дом 18, с. Кемцы, Бологовский ра...</td>\n",
       "      <td>6907006968</td>\n",
       "      <td>None</td>\n",
       "    </tr>\n",
       "    <tr>\n",
       "      <th>1</th>\n",
       "      <td>Действующее</td>\n",
       "      <td>Свердловская область</td>\n",
       "      <td>66</td>\n",
       "      <td>Муниципальное казенное образовательное учрежде...</td>\n",
       "      <td>623506, Богдановичский район, с.Каменноозерско...</td>\n",
       "      <td>6605006658</td>\n",
       "      <td>None</td>\n",
       "    </tr>\n",
       "    <tr>\n",
       "      <th>2</th>\n",
       "      <td>Действующее</td>\n",
       "      <td>Нижегородская область</td>\n",
       "      <td>52</td>\n",
       "      <td>Муниципальное бюджетное общеобразовательное уч...</td>\n",
       "      <td>607047. Нижегородская область, город Выкса, се...</td>\n",
       "      <td>5247014774</td>\n",
       "      <td>None</td>\n",
       "    </tr>\n",
       "    <tr>\n",
       "      <th>3</th>\n",
       "      <td>Недействующее</td>\n",
       "      <td>Иркутская область</td>\n",
       "      <td>38</td>\n",
       "      <td>Муниципальное казённое общеобразовательное учр...</td>\n",
       "      <td>666820 Иркутская область, Мамско-Чуйский район...</td>\n",
       "      <td>3802008384</td>\n",
       "      <td>None</td>\n",
       "    </tr>\n",
       "    <tr>\n",
       "      <th>4</th>\n",
       "      <td>Недействующее</td>\n",
       "      <td>г. Москва</td>\n",
       "      <td>77</td>\n",
       "      <td>Образовательное частное учреждение высшего обр...</td>\n",
       "      <td>127299, г. Москва, ул. Космонавта Волкова, д. 20</td>\n",
       "      <td>7720006383</td>\n",
       "      <td>Частные учреждения</td>\n",
       "    </tr>\n",
       "  </tbody>\n",
       "</table>\n",
       "</div>"
      ],
      "text/plain": [
       "     status_name            region_name region_code  \\\n",
       "0  Недействующее       Тверская область          69   \n",
       "1    Действующее   Свердловская область          66   \n",
       "2    Действующее  Нижегородская область          52   \n",
       "3  Недействующее      Иркутская область          38   \n",
       "4  Недействующее              г. Москва          77   \n",
       "\n",
       "                                           full_name  \\\n",
       "0  Муниципальное бюджетное общеобразовательное уч...   \n",
       "1  Муниципальное казенное образовательное учрежде...   \n",
       "2  Муниципальное бюджетное общеобразовательное уч...   \n",
       "3  Муниципальное казённое общеобразовательное учр...   \n",
       "4  Образовательное частное учреждение высшего обр...   \n",
       "\n",
       "                                        post_address         inn  \\\n",
       "0  ул. Школьная, дом 18, с. Кемцы, Бологовский ра...  6907006968   \n",
       "1  623506, Богдановичский район, с.Каменноозерско...  6605006658   \n",
       "2  607047. Нижегородская область, город Выкса, се...  5247014774   \n",
       "3  666820 Иркутская область, Мамско-Чуйский район...  3802008384   \n",
       "4   127299, г. Москва, ул. Космонавта Волкова, д. 20  7720006383   \n",
       "\n",
       "            form_name  \n",
       "0                None  \n",
       "1                None  \n",
       "2                None  \n",
       "3                None  \n",
       "4  Частные учреждения  "
      ]
     },
     "execution_count": 13,
     "metadata": {},
     "output_type": "execute_result"
    }
   ],
   "source": [
    "df.head()"
   ]
  },
  {
   "cell_type": "code",
   "execution_count": 14,
   "metadata": {},
   "outputs": [
    {
     "name": "stdout",
     "output_type": "stream",
     "text": [
      "<class 'pandas.core.frame.DataFrame'>\n",
      "RangeIndex: 91576 entries, 0 to 91575\n",
      "Data columns (total 7 columns):\n",
      " #   Column        Non-Null Count  Dtype \n",
      "---  ------        --------------  ----- \n",
      " 0   status_name   91576 non-null  object\n",
      " 1   region_name   90819 non-null  object\n",
      " 2   region_code   90819 non-null  object\n",
      " 3   full_name     91552 non-null  object\n",
      " 4   post_address  91241 non-null  object\n",
      " 5   inn           89825 non-null  object\n",
      " 6   form_name     11947 non-null  object\n",
      "dtypes: object(7)\n",
      "memory usage: 4.9+ MB\n"
     ]
    }
   ],
   "source": [
    "df.info()"
   ]
  },
  {
   "cell_type": "markdown",
   "metadata": {},
   "source": [
    "## 1.4. Выберем только \"status_name\" == \"Действующее\" и \"full_name\" содержит \"высшего\""
   ]
  },
  {
   "cell_type": "code",
   "execution_count": 15,
   "metadata": {},
   "outputs": [
    {
     "data": {
      "text/plain": [
       "array(['Недействующее', 'Действующее', 'Прекращено', 'Лишен аккредитации',\n",
       "       'Приостановлено'], dtype=object)"
      ]
     },
     "execution_count": 15,
     "metadata": {},
     "output_type": "execute_result"
    }
   ],
   "source": [
    "df['status_name'].unique()"
   ]
  },
  {
   "cell_type": "code",
   "execution_count": 16,
   "metadata": {},
   "outputs": [],
   "source": [
    "acting = df[\"status_name\"] == \"Действующее\"\n",
    "higher_education = df[\"full_name\"].str.contains('высшего')"
   ]
  },
  {
   "cell_type": "code",
   "execution_count": 17,
   "metadata": {},
   "outputs": [],
   "source": [
    "df_vuz = df[acting & higher_education].drop(['status_name'], axis=1)"
   ]
  },
  {
   "cell_type": "code",
   "execution_count": 18,
   "metadata": {},
   "outputs": [
    {
     "name": "stdout",
     "output_type": "stream",
     "text": [
      "<class 'pandas.core.frame.DataFrame'>\n",
      "Int64Index: 800 entries, 12 to 91271\n",
      "Data columns (total 6 columns):\n",
      " #   Column        Non-Null Count  Dtype \n",
      "---  ------        --------------  ----- \n",
      " 0   region_name   790 non-null    object\n",
      " 1   region_code   790 non-null    object\n",
      " 2   full_name     800 non-null    object\n",
      " 3   post_address  800 non-null    object\n",
      " 4   inn           800 non-null    object\n",
      " 5   form_name     759 non-null    object\n",
      "dtypes: object(6)\n",
      "memory usage: 43.8+ KB\n"
     ]
    }
   ],
   "source": [
    "df_vuz.info()"
   ]
  },
  {
   "cell_type": "code",
   "execution_count": 19,
   "metadata": {},
   "outputs": [
    {
     "data": {
      "text/html": [
       "<div>\n",
       "<style scoped>\n",
       "    .dataframe tbody tr th:only-of-type {\n",
       "        vertical-align: middle;\n",
       "    }\n",
       "\n",
       "    .dataframe tbody tr th {\n",
       "        vertical-align: top;\n",
       "    }\n",
       "\n",
       "    .dataframe thead th {\n",
       "        text-align: right;\n",
       "    }\n",
       "</style>\n",
       "<table border=\"1\" class=\"dataframe\">\n",
       "  <thead>\n",
       "    <tr style=\"text-align: right;\">\n",
       "      <th></th>\n",
       "      <th>region_name</th>\n",
       "      <th>region_code</th>\n",
       "      <th>full_name</th>\n",
       "      <th>post_address</th>\n",
       "      <th>inn</th>\n",
       "      <th>form_name</th>\n",
       "    </tr>\n",
       "  </thead>\n",
       "  <tbody>\n",
       "    <tr>\n",
       "      <th>12</th>\n",
       "      <td>Тюменская область</td>\n",
       "      <td>72</td>\n",
       "      <td>федеральное государственное казенное военное о...</td>\n",
       "      <td>625001, г. Тюмень, улица Льва Толстого, д. 1</td>\n",
       "      <td>7203255254</td>\n",
       "      <td>федеральное государственное казенное военное о...</td>\n",
       "    </tr>\n",
       "    <tr>\n",
       "      <th>1109</th>\n",
       "      <td>Вологодская область</td>\n",
       "      <td>35</td>\n",
       "      <td>федеральное государственное бюджетное образова...</td>\n",
       "      <td>162600, Вологодская область, г. Череповец, про...</td>\n",
       "      <td>3528051834</td>\n",
       "      <td>Бюджетные учреждения</td>\n",
       "    </tr>\n",
       "    <tr>\n",
       "      <th>2891</th>\n",
       "      <td>г. Москва</td>\n",
       "      <td>77</td>\n",
       "      <td>федеральное государственное бюджетное образова...</td>\n",
       "      <td>117997, г. Москва, Стремянный переулок, д. 36</td>\n",
       "      <td>7705043493</td>\n",
       "      <td>федеральное государственное бюджетное учреждение</td>\n",
       "    </tr>\n",
       "    <tr>\n",
       "      <th>3032</th>\n",
       "      <td>образовательные учреждения, находящиеся за пре...</td>\n",
       "      <td>90</td>\n",
       "      <td>Государственное образовательное учреждение выс...</td>\n",
       "      <td>Республика Армения, г. Ереван, ул. Овсепа Эмин...</td>\n",
       "      <td>00053474</td>\n",
       "      <td>Бюджетные учреждения</td>\n",
       "    </tr>\n",
       "    <tr>\n",
       "      <th>3824</th>\n",
       "      <td>Воронежская область</td>\n",
       "      <td>36</td>\n",
       "      <td>Воронежский институт высоких технологий - авто...</td>\n",
       "      <td>394043, г. Воронеж, ул. Ленина, д. 73а</td>\n",
       "      <td>3662006761</td>\n",
       "      <td>Автономные некоммерческие организации</td>\n",
       "    </tr>\n",
       "  </tbody>\n",
       "</table>\n",
       "</div>"
      ],
      "text/plain": [
       "                                            region_name region_code  \\\n",
       "12                                    Тюменская область          72   \n",
       "1109                                Вологодская область          35   \n",
       "2891                                          г. Москва          77   \n",
       "3032  образовательные учреждения, находящиеся за пре...          90   \n",
       "3824                                Воронежская область          36   \n",
       "\n",
       "                                              full_name  \\\n",
       "12    федеральное государственное казенное военное о...   \n",
       "1109  федеральное государственное бюджетное образова...   \n",
       "2891  федеральное государственное бюджетное образова...   \n",
       "3032  Государственное образовательное учреждение выс...   \n",
       "3824  Воронежский институт высоких технологий - авто...   \n",
       "\n",
       "                                           post_address         inn  \\\n",
       "12         625001, г. Тюмень, улица Льва Толстого, д. 1  7203255254   \n",
       "1109  162600, Вологодская область, г. Череповец, про...  3528051834   \n",
       "2891      117997, г. Москва, Стремянный переулок, д. 36  7705043493   \n",
       "3032  Республика Армения, г. Ереван, ул. Овсепа Эмин...    00053474   \n",
       "3824             394043, г. Воронеж, ул. Ленина, д. 73а  3662006761   \n",
       "\n",
       "                                              form_name  \n",
       "12    федеральное государственное казенное военное о...  \n",
       "1109                               Бюджетные учреждения  \n",
       "2891   федеральное государственное бюджетное учреждение  \n",
       "3032                               Бюджетные учреждения  \n",
       "3824              Автономные некоммерческие организации  "
      ]
     },
     "execution_count": 19,
     "metadata": {},
     "output_type": "execute_result"
    }
   ],
   "source": [
    "df_vuz.head()"
   ]
  },
  {
   "cell_type": "code",
   "execution_count": 20,
   "metadata": {},
   "outputs": [
    {
     "name": "stdout",
     "output_type": "stream",
     "text": [
      "Всего ВУЗов 800\n"
     ]
    }
   ],
   "source": [
    "print('Всего ВУЗов', len(df_vuz))"
   ]
  },
  {
   "cell_type": "markdown",
   "metadata": {},
   "source": [
    "## 1.5. Посмотрим на организационно правовую форму (столбец form_name)"
   ]
  },
  {
   "cell_type": "code",
   "execution_count": 21,
   "metadata": {},
   "outputs": [
    {
     "data": {
      "text/plain": [
       "array(['федеральное государственное казенное военное образовательное учреждение',\n",
       "       'Бюджетные учреждения',\n",
       "       'федеральное государственное бюджетное учреждение',\n",
       "       'Автономные некоммерческие организации', 'Казенные учреждения',\n",
       "       None,\n",
       "       'федеральное государственное автономное образовательное учреждение',\n",
       "       'автономная некоммерческая образовательная организация',\n",
       "       'Частные учреждения',\n",
       "       'государственное бюджетное образовательное учреждение',\n",
       "       'государственное образовательное учреждение',\n",
       "       'государственное учреждение',\n",
       "       'государственное бюджетное учреждение',\n",
       "       'федеральное государственное образовательное бюджетное учреждение',\n",
       "       'федеральное государственное автономное учреждение',\n",
       "       'федеральное государственное казенное учреждение',\n",
       "       'некоммерческая организация', 'частное учреждение',\n",
       "       'автономная некоммерческая организация',\n",
       "       'частное образовательное учреждение',\n",
       "       'государственное автономное образовательное учреждение',\n",
       "       'негосударственное образовательное учреждение',\n",
       "       'федеральная государственная бюджетная образовательная организация',\n",
       "       'федеральное государственное бюджетное военное образовательное учреждение',\n",
       "       'негосударственное образовательное частное учреждение',\n",
       "       'Государственное автономное учреждение',\n",
       "       'федеральное казенное образовательное учреждение',\n",
       "       'образовательное учреждение (негос)',\n",
       "       'государственное образовательное учреждение субъекта Федерации',\n",
       "       'федеральное государственное казенное образовательное учреждение',\n",
       "       'федеральное государственное образовательное учреждение',\n",
       "       'бюджетное учреждение'], dtype=object)"
      ]
     },
     "execution_count": 21,
     "metadata": {},
     "output_type": "execute_result"
    }
   ],
   "source": [
    "df_vuz['form_name'].unique()"
   ]
  },
  {
   "cell_type": "markdown",
   "metadata": {},
   "source": [
    "Видно, что столбец form_name заполнен небрежно и не полностью. В то же время наименование образовательной организации должно содержать указание на ее организационно-правовую форму и тип образовательной организации (согласно http://273-фз.рф/zakonodatelstvo/federalnyy-zakon-ot-29-dekabrya-2012-g-no-273-fz-ob-obrazovanii-v-rf). Поэтому удалим form_name. И извлечем нужную информацию из full_name."
   ]
  },
  {
   "cell_type": "code",
   "execution_count": 22,
   "metadata": {},
   "outputs": [],
   "source": [
    "df_vuz.drop(['form_name'], axis=1, inplace=True)"
   ]
  },
  {
   "cell_type": "markdown",
   "metadata": {},
   "source": [
    "## 1.6. Извлечем информацию о категориях ВУЗов из full_name"
   ]
  },
  {
   "cell_type": "code",
   "execution_count": 23,
   "metadata": {},
   "outputs": [],
   "source": [
    "vuz_type_set = set()\n",
    "for name in df_vuz['full_name']:\n",
    "    name = name.lower()\n",
    "    name = name.replace('\"', '«')\n",
    "    vuz_type = name.split('«')\n",
    "    vuz_type = vuz_type[0].split('высшего образования')\n",
    "    # print(vuz_type[0])\n",
    "    vuz_type = vuz_type[0].split(' ')\n",
    "    for word in vuz_type:\n",
    "        vuz_type_set.add(word)\n",
    "\n",
    "bug_word_list = ['-', '(славянский)',\n",
    "                 '', 'астраханской',\n",
    "                 'воронежский', 'высшего',\n",
    "                 'кыргызско-российский', 'красного',\n",
    "                 'области', 'областное',\n",
    "                 'образования', 'образовательная',\n",
    "                 'образовательное', 'организация',\n",
    "                 'ордена', 'профессионального',\n",
    "                 'профсоюзов', 'российско-армянский',\n",
    "                 'санкт-петербургское', 'славянский',\n",
    "                 'среднего', 'тамбовское',\n",
    "                 'трудового', '–',\n",
    "                 'знамени', 'высоких',\n",
    "                 'университет', 'институт',\n",
    "                 'учреждение']\n",
    "\n",
    "for word in bug_word_list:\n",
    "    vuz_type_set.remove(word)"
   ]
  },
  {
   "cell_type": "code",
   "execution_count": 24,
   "metadata": {},
   "outputs": [
    {
     "data": {
      "text/plain": [
       "{'автономная',\n",
       " 'автономное',\n",
       " 'аккредитованное',\n",
       " 'бюджетное',\n",
       " 'военное',\n",
       " 'государственное',\n",
       " 'духовная',\n",
       " 'инклюзивного',\n",
       " 'казенное',\n",
       " 'культуры',\n",
       " 'межгосударственное',\n",
       " 'муниципальное',\n",
       " 'негосударственная',\n",
       " 'негосударственное',\n",
       " 'некоммерческая',\n",
       " 'некоммерческое',\n",
       " 'религиозная',\n",
       " 'технологий',\n",
       " 'федеральное',\n",
       " 'частное'}"
      ]
     },
     "execution_count": 24,
     "metadata": {},
     "output_type": "execute_result"
    }
   ],
   "source": [
    "vuz_type_set"
   ]
  },
  {
   "cell_type": "code",
   "execution_count": 25,
   "metadata": {},
   "outputs": [],
   "source": [
    "avtonomnaya = ['автономная',  'автономное']\n",
    "akkreditovannoye = ['аккредитованное']\n",
    "byudzhetnoye = ['бюджетное']\n",
    "voyennoye = ['военное']\n",
    "gosudarstvennoye = ['государственное']\n",
    "religioznaya = ['духовная', 'религиозная']\n",
    "inclusive = ['инклюзивного']\n",
    "kazennoye = ['казенное']\n",
    "kultury = ['культуры']\n",
    "mezhgosudarstvennoye = ['межгосударственное']\n",
    "munitsipalnoye = ['муниципальное']\n",
    "negosudarstvennaya = ['негосударственная', 'негосударственное']\n",
    "nekommercheskaya = ['некоммерческая', 'некоммерческое']\n",
    "technologies = ['технологий']\n",
    "federalnoye = ['федеральное']\n",
    "chastnoye = ['частное']"
   ]
  },
  {
   "cell_type": "code",
   "execution_count": 26,
   "metadata": {},
   "outputs": [],
   "source": [
    "categories = [avtonomnaya, akkreditovannoye,\n",
    "              byudzhetnoye, voyennoye,\n",
    "              gosudarstvennoye, religioznaya,\n",
    "              inclusive, kazennoye, kultury,\n",
    "              mezhgosudarstvennoye, munitsipalnoye,\n",
    "              negosudarstvennaya, nekommercheskaya,\n",
    "              technologies, federalnoye,\n",
    "              chastnoye]"
   ]
  },
  {
   "cell_type": "code",
   "execution_count": 27,
   "metadata": {},
   "outputs": [],
   "source": [
    "categories_names = ['is_avtonomnaya', 'is_akkreditovannoye',\n",
    "                    'is_byudzhetnoye', 'is_voyennoye',\n",
    "                    'is_gosudarstvennoye', 'is_religioznaya',\n",
    "                    'is_inclusive', 'is_kazennoye', 'is_kultury',\n",
    "                    'is_mezhgosudarstvennoye', 'is_munitsipalnoye',\n",
    "                    'is_negosudarstvennaya', 'is_nekommercheskaya',\n",
    "                    'is_technologies', 'is_federalnoye',\n",
    "                    'is_chastnoye']"
   ]
  },
  {
   "cell_type": "code",
   "execution_count": 28,
   "metadata": {},
   "outputs": [
    {
     "name": "stderr",
     "output_type": "stream",
     "text": [
      "C:\\Users\\bobkova-ao\\AppData\\Local\\Continuum\\anaconda3\\lib\\site-packages\\pandas\\core\\computation\\expressions.py:204: UserWarning: evaluating in Python space because the '+' operator is not supported by numexpr for the bool dtype, use '|' instead\n",
      "  f\"evaluating in Python space because the {repr(op_str)} \"\n",
      "C:\\Users\\bobkova-ao\\AppData\\Local\\Continuum\\anaconda3\\lib\\site-packages\\pandas\\core\\computation\\expressions.py:204: UserWarning: evaluating in Python space because the '+' operator is not supported by numexpr for the bool dtype, use '|' instead\n",
      "  f\"evaluating in Python space because the {repr(op_str)} \"\n",
      "C:\\Users\\bobkova-ao\\AppData\\Local\\Continuum\\anaconda3\\lib\\site-packages\\pandas\\core\\computation\\expressions.py:204: UserWarning: evaluating in Python space because the '+' operator is not supported by numexpr for the bool dtype, use '|' instead\n",
      "  f\"evaluating in Python space because the {repr(op_str)} \"\n",
      "C:\\Users\\bobkova-ao\\AppData\\Local\\Continuum\\anaconda3\\lib\\site-packages\\pandas\\core\\computation\\expressions.py:204: UserWarning: evaluating in Python space because the '+' operator is not supported by numexpr for the bool dtype, use '|' instead\n",
      "  f\"evaluating in Python space because the {repr(op_str)} \"\n"
     ]
    }
   ],
   "source": [
    "for cats, cats_name in zip(categories, categories_names):\n",
    "    mask = df_vuz[\"full_name\"].str.contains(cats[0])\n",
    "    if len(cats) > 1:\n",
    "        mask = mask + df_vuz[\"full_name\"].str.contains(cats[1])\n",
    "    df_vuz[cats_name] = mask"
   ]
  },
  {
   "cell_type": "code",
   "execution_count": 29,
   "metadata": {},
   "outputs": [
    {
     "data": {
      "text/html": [
       "<div>\n",
       "<style scoped>\n",
       "    .dataframe tbody tr th:only-of-type {\n",
       "        vertical-align: middle;\n",
       "    }\n",
       "\n",
       "    .dataframe tbody tr th {\n",
       "        vertical-align: top;\n",
       "    }\n",
       "\n",
       "    .dataframe thead th {\n",
       "        text-align: right;\n",
       "    }\n",
       "</style>\n",
       "<table border=\"1\" class=\"dataframe\">\n",
       "  <thead>\n",
       "    <tr style=\"text-align: right;\">\n",
       "      <th></th>\n",
       "      <th>is_avtonomnaya</th>\n",
       "      <th>is_akkreditovannoye</th>\n",
       "      <th>is_byudzhetnoye</th>\n",
       "      <th>is_voyennoye</th>\n",
       "      <th>is_gosudarstvennoye</th>\n",
       "      <th>is_religioznaya</th>\n",
       "      <th>is_inclusive</th>\n",
       "      <th>is_kazennoye</th>\n",
       "      <th>is_kultury</th>\n",
       "      <th>is_mezhgosudarstvennoye</th>\n",
       "      <th>is_munitsipalnoye</th>\n",
       "      <th>is_negosudarstvennaya</th>\n",
       "      <th>is_nekommercheskaya</th>\n",
       "      <th>is_technologies</th>\n",
       "      <th>is_federalnoye</th>\n",
       "      <th>is_chastnoye</th>\n",
       "    </tr>\n",
       "  </thead>\n",
       "  <tbody>\n",
       "    <tr>\n",
       "      <th>12</th>\n",
       "      <td>False</td>\n",
       "      <td>False</td>\n",
       "      <td>False</td>\n",
       "      <td>True</td>\n",
       "      <td>True</td>\n",
       "      <td>False</td>\n",
       "      <td>False</td>\n",
       "      <td>True</td>\n",
       "      <td>False</td>\n",
       "      <td>False</td>\n",
       "      <td>False</td>\n",
       "      <td>False</td>\n",
       "      <td>False</td>\n",
       "      <td>False</td>\n",
       "      <td>True</td>\n",
       "      <td>False</td>\n",
       "    </tr>\n",
       "    <tr>\n",
       "      <th>1109</th>\n",
       "      <td>False</td>\n",
       "      <td>False</td>\n",
       "      <td>True</td>\n",
       "      <td>False</td>\n",
       "      <td>True</td>\n",
       "      <td>False</td>\n",
       "      <td>False</td>\n",
       "      <td>False</td>\n",
       "      <td>False</td>\n",
       "      <td>False</td>\n",
       "      <td>False</td>\n",
       "      <td>False</td>\n",
       "      <td>False</td>\n",
       "      <td>False</td>\n",
       "      <td>True</td>\n",
       "      <td>False</td>\n",
       "    </tr>\n",
       "    <tr>\n",
       "      <th>2891</th>\n",
       "      <td>False</td>\n",
       "      <td>False</td>\n",
       "      <td>True</td>\n",
       "      <td>False</td>\n",
       "      <td>True</td>\n",
       "      <td>False</td>\n",
       "      <td>False</td>\n",
       "      <td>False</td>\n",
       "      <td>False</td>\n",
       "      <td>False</td>\n",
       "      <td>False</td>\n",
       "      <td>False</td>\n",
       "      <td>False</td>\n",
       "      <td>False</td>\n",
       "      <td>True</td>\n",
       "      <td>False</td>\n",
       "    </tr>\n",
       "    <tr>\n",
       "      <th>3032</th>\n",
       "      <td>False</td>\n",
       "      <td>False</td>\n",
       "      <td>False</td>\n",
       "      <td>False</td>\n",
       "      <td>False</td>\n",
       "      <td>False</td>\n",
       "      <td>False</td>\n",
       "      <td>False</td>\n",
       "      <td>False</td>\n",
       "      <td>False</td>\n",
       "      <td>False</td>\n",
       "      <td>False</td>\n",
       "      <td>False</td>\n",
       "      <td>False</td>\n",
       "      <td>False</td>\n",
       "      <td>False</td>\n",
       "    </tr>\n",
       "    <tr>\n",
       "      <th>3824</th>\n",
       "      <td>True</td>\n",
       "      <td>False</td>\n",
       "      <td>False</td>\n",
       "      <td>False</td>\n",
       "      <td>False</td>\n",
       "      <td>False</td>\n",
       "      <td>False</td>\n",
       "      <td>False</td>\n",
       "      <td>False</td>\n",
       "      <td>False</td>\n",
       "      <td>False</td>\n",
       "      <td>False</td>\n",
       "      <td>True</td>\n",
       "      <td>True</td>\n",
       "      <td>False</td>\n",
       "      <td>False</td>\n",
       "    </tr>\n",
       "  </tbody>\n",
       "</table>\n",
       "</div>"
      ],
      "text/plain": [
       "      is_avtonomnaya  is_akkreditovannoye  is_byudzhetnoye  is_voyennoye  \\\n",
       "12             False                False            False          True   \n",
       "1109           False                False             True         False   \n",
       "2891           False                False             True         False   \n",
       "3032           False                False            False         False   \n",
       "3824            True                False            False         False   \n",
       "\n",
       "      is_gosudarstvennoye  is_religioznaya  is_inclusive  is_kazennoye  \\\n",
       "12                   True            False         False          True   \n",
       "1109                 True            False         False         False   \n",
       "2891                 True            False         False         False   \n",
       "3032                False            False         False         False   \n",
       "3824                False            False         False         False   \n",
       "\n",
       "      is_kultury  is_mezhgosudarstvennoye  is_munitsipalnoye  \\\n",
       "12         False                    False              False   \n",
       "1109       False                    False              False   \n",
       "2891       False                    False              False   \n",
       "3032       False                    False              False   \n",
       "3824       False                    False              False   \n",
       "\n",
       "      is_negosudarstvennaya  is_nekommercheskaya  is_technologies  \\\n",
       "12                    False                False            False   \n",
       "1109                  False                False            False   \n",
       "2891                  False                False            False   \n",
       "3032                  False                False            False   \n",
       "3824                  False                 True             True   \n",
       "\n",
       "      is_federalnoye  is_chastnoye  \n",
       "12              True         False  \n",
       "1109            True         False  \n",
       "2891            True         False  \n",
       "3032           False         False  \n",
       "3824           False         False  "
      ]
     },
     "execution_count": 29,
     "metadata": {},
     "output_type": "execute_result"
    }
   ],
   "source": [
    "df_vuz[categories_names].head()"
   ]
  },
  {
   "cell_type": "markdown",
   "metadata": {},
   "source": [
    "## 1.7. Визуализируем связь между выделенными категориями"
   ]
  },
  {
   "cell_type": "code",
   "execution_count": 30,
   "metadata": {},
   "outputs": [],
   "source": [
    "X = df_vuz[categories_names]"
   ]
  },
  {
   "cell_type": "code",
   "execution_count": 31,
   "metadata": {},
   "outputs": [
    {
     "data": {
      "image/png": "[encoded data removed]",
      "text/plain": [
       "<Figure size 864x720 with 2 Axes>"
      ]
     },
     "metadata": {
      "needs_background": "light"
     },
     "output_type": "display_data"
    }
   ],
   "source": [
    "plt.figure(figsize=(12, 10))\n",
    "sns.heatmap(abs(X.corr().round(2)),\n",
    "            xticklabels=X.corr().columns,\n",
    "            yticklabels=X.corr().columns,\n",
    "            cmap='RdYlGn',\n",
    "            center=0,\n",
    "            annot=True)\n",
    "plt.title('Коррелограмма типов ВУЗов', fontsize=22)\n",
    "plt.xticks(fontsize=12)\n",
    "plt.yticks(fontsize=12)\n",
    "plt.savefig('..\\\\reports\\\\figures\\\\vuz-types-correlogram.png', dpi=100)\n",
    "plt.show()"
   ]
  },
  {
   "cell_type": "markdown",
   "metadata": {},
   "source": [
    "## 1.8. Посчитаем, сколько вузов каждой категории"
   ]
  },
  {
   "cell_type": "code",
   "execution_count": 32,
   "metadata": {},
   "outputs": [
    {
     "data": {
      "text/plain": [
       "is_avtonomnaya              74\n",
       "is_akkreditovannoye          1\n",
       "is_byudzhetnoye            505\n",
       "is_voyennoye                39\n",
       "is_gosudarstvennoye        642\n",
       "is_religioznaya             11\n",
       "is_inclusive                 1\n",
       "is_kazennoye                75\n",
       "is_kultury                  37\n",
       "is_mezhgosudarstvennoye      2\n",
       "is_munitsipalnoye            3\n",
       "is_negosudarstvennaya        2\n",
       "is_nekommercheskaya         56\n",
       "is_technologies             15\n",
       "is_federalnoye             569\n",
       "is_chastnoye                30\n",
       "dtype: int64"
      ]
     },
     "execution_count": 32,
     "metadata": {},
     "output_type": "execute_result"
    }
   ],
   "source": [
    "X.sum()"
   ]
  },
  {
   "cell_type": "markdown",
   "metadata": {},
   "source": [
    "## Дополним поле с кодом региона\n",
    "\n",
    "Для 10 ВУЗов в поле region_code нет информации."
   ]
  },
  {
   "cell_type": "code",
   "execution_count": 34,
   "metadata": {},
   "outputs": [
    {
     "name": "stdout",
     "output_type": "stream",
     "text": [
      "<class 'pandas.core.frame.DataFrame'>\n",
      "Int64Index: 800 entries, 12 to 91271\n",
      "Data columns (total 21 columns):\n",
      " #   Column                   Non-Null Count  Dtype \n",
      "---  ------                   --------------  ----- \n",
      " 0   region_name              790 non-null    object\n",
      " 1   region_code              790 non-null    object\n",
      " 2   full_name                800 non-null    object\n",
      " 3   post_address             800 non-null    object\n",
      " 4   inn                      800 non-null    object\n",
      " 5   is_avtonomnaya           800 non-null    bool  \n",
      " 6   is_akkreditovannoye      800 non-null    bool  \n",
      " 7   is_byudzhetnoye          800 non-null    bool  \n",
      " 8   is_voyennoye             800 non-null    bool  \n",
      " 9   is_gosudarstvennoye      800 non-null    bool  \n",
      " 10  is_religioznaya          800 non-null    bool  \n",
      " 11  is_inclusive             800 non-null    bool  \n",
      " 12  is_kazennoye             800 non-null    bool  \n",
      " 13  is_kultury               800 non-null    bool  \n",
      " 14  is_mezhgosudarstvennoye  800 non-null    bool  \n",
      " 15  is_munitsipalnoye        800 non-null    bool  \n",
      " 16  is_negosudarstvennaya    800 non-null    bool  \n",
      " 17  is_nekommercheskaya      800 non-null    bool  \n",
      " 18  is_technologies          800 non-null    bool  \n",
      " 19  is_federalnoye           800 non-null    bool  \n",
      " 20  is_chastnoye             800 non-null    bool  \n",
      "dtypes: bool(16), object(5)\n",
      "memory usage: 50.0+ KB\n"
     ]
    }
   ],
   "source": [
    "df_vuz.info()"
   ]
  },
  {
   "cell_type": "code",
   "execution_count": 45,
   "metadata": {},
   "outputs": [],
   "source": [
    "region_code_null = pd.isnull(df_vuz['region_code'])"
   ]
  },
  {
   "cell_type": "code",
   "execution_count": 49,
   "metadata": {},
   "outputs": [
    {
     "data": {
      "text/plain": [
       "array(['295021, Российская Федерация, Республика Крым, г. Симферополь, ул. Крымской правды,  дом 4',\n",
       "       '295015, Республика Крым, г. Симферополь, переулок Учебный, д. 8',\n",
       "       '295015, Республика Крым, г. Симферополь, переулок Учебный, д. 8',\n",
       "       '299028, г. Севастополь,  улица Павла Дыбенко, дом 1, корпус А',\n",
       "       '295007, Республика Крым, г. Симферополь, проспект академика Вернадского, 4',\n",
       "       '299053, г. Севастополь, ул. Университетская, д. 33',\n",
       "       '295007, Республика Крым, г. Симферополь, проспект академика Вернадского, 4',\n",
       "       '298309, Республика Крым, г. Керчь, ул. Орджоникидзе, д. 82',\n",
       "       '299053, г. Севастополь, ул. Университетская, д. 33',\n",
       "       '295017, Республика Крым, г. Симферополь, ул. Киевская, д. 39'],\n",
       "      dtype=object)"
      ]
     },
     "execution_count": 49,
     "metadata": {},
     "output_type": "execute_result"
    }
   ],
   "source": [
    "df_vuz[region_code_null]['post_address'].values"
   ]
  },
  {
   "cell_type": "code",
   "execution_count": null,
   "metadata": {},
   "outputs": [],
   "source": []
  },
  {
   "cell_type": "code",
   "execution_count": null,
   "metadata": {},
   "outputs": [],
   "source": [
    "https://shuchkin.ru/2020/01/kody-regionov-rossii-i-pochtovye-indeksy-region-po-indeksu/"
   ]
  }
 ],
 "metadata": {
  "kernelspec": {
   "display_name": "Python 3",
   "language": "python",
   "name": "python3"
  },
  "language_info": {
   "codemirror_mode": {
    "name": "ipython",
    "version": 3
   },
   "file_extension": ".py",
   "mimetype": "text/x-python",
   "name": "python",
   "nbconvert_exporter": "python",
   "pygments_lexer": "ipython3",
   "version": "3.7.1"
  }
 },
 "nbformat": 4,
 "nbformat_minor": 2
}
