{
 "cells": [
  {
   "cell_type": "markdown",
   "metadata": {},
   "source": [
    "## 1. ИНН и названия ВУЗов \n",
    "Реестр организаций, осуществляющих образовательную деятельность по имеющим государственную аккредитацию образовательным программам http://obrnadzor.gov.ru/ru/opendata/7701537808-RAOO/"
   ]
  },
  {
   "cell_type": "code",
   "execution_count": 1,
   "metadata": {},
   "outputs": [],
   "source": [
    "import xml.etree.ElementTree as et \n",
    "import pandas as pd\n",
    "import pickle\n",
    "\n",
    "import matplotlib.pyplot as plt\n",
    "import seaborn as sns\n",
    "\n",
    "%load_ext pycodestyle_magic\n",
    "%pycodestyle_on"
   ]
  },
  {
   "cell_type": "code",
   "execution_count": null,
   "metadata": {},
   "outputs": [],
   "source": [
    "xml_file_name = 'obrnadzorgovru-data-20201119-structure-20160713.xml'\n",
    "xml_file_path = '..\\\\data\\\\external\\\\' + xml_file_name"
   ]
  },
  {
   "cell_type": "code",
   "execution_count": null,
   "metadata": {},
   "outputs": [],
   "source": [
    "tree = et.parse(xml_file_path)\n",
    "root = tree.getroot()"
   ]
  },
  {
   "cell_type": "code",
   "execution_count": null,
   "metadata": {},
   "outputs": [],
   "source": [
    "print('Всего организаций', len(root[0]))"
   ]
  },
  {
   "cell_type": "markdown",
   "metadata": {},
   "source": [
    "## 1.1. Общие данные\n",
    "- StatusName - Текущий статус свидетельства\n",
    "- TypeName - Вид свидетельства\n",
    "- RegionName - Субъект РФ\n",
    "- RegionCode - Код Субъекта РФ"
   ]
  },
  {
   "cell_type": "code",
   "execution_count": null,
   "metadata": {},
   "outputs": [],
   "source": [
    "rows = []\n",
    "for i in root.findall(\"./Certificates/Certificate\"):\n",
    "    status_name = getattr(i.find('StatusName'), 'text', None)\n",
    "    region_name = getattr(i.find('RegionName'), 'text', None)\n",
    "    region_code = getattr(i.find('RegionCode'), 'text', None)\n",
    "    rows.append({'status_name': status_name,\n",
    "                 'region_name': region_name,\n",
    "                 'region_code': region_code})"
   ]
  },
  {
   "cell_type": "code",
   "execution_count": null,
   "metadata": {},
   "outputs": [],
   "source": [
    "df_cols = ['status_name', 'region_name', 'region_code']\n",
    "out_df_certificate = pd.DataFrame(rows, columns=df_cols)"
   ]
  },
  {
   "cell_type": "code",
   "execution_count": null,
   "metadata": {},
   "outputs": [],
   "source": [
    "out_df_certificate.head()"
   ]
  },
  {
   "cell_type": "markdown",
   "metadata": {},
   "source": [
    "## 1.2. Данные из раздела ActualEducationOrganization"
   ]
  },
  {
   "cell_type": "markdown",
   "metadata": {},
   "source": [
    "- FullName - Полное наименование\n",
    "- PostAddress - Юридический адрес организации\n",
    "- INN - ИНН\n",
    "- FormName - Организационно правовая форма"
   ]
  },
  {
   "cell_type": "code",
   "execution_count": null,
   "metadata": {},
   "outputs": [],
   "source": [
    "rows = []\n",
    "actual_path = \"./Certificates/Certificate/ActualEducationOrganization\"\n",
    "for i in root.findall(actual_path):\n",
    "    full_name = getattr(i.find('FullName'), 'text', None)\n",
    "    post_address = getattr(i.find('PostAddress'), 'text', None)\n",
    "    ogrn = getattr(i.find('OGRN'), 'text', None)\n",
    "    inn = getattr(i.find('INN'), 'text', None)\n",
    "    form_name = getattr(i.find('FormName'), 'text', None)\n",
    "    rows.append({'full_name': full_name,\n",
    "                 'is_branch': is_branch,\n",
    "                 'post_address': post_address,\n",
    "                 'inn': inn,\n",
    "                 'form_name': form_name})"
   ]
  },
  {
   "cell_type": "code",
   "execution_count": null,
   "metadata": {},
   "outputs": [],
   "source": [
    "df_cols = ['full_name',\n",
    "           'post_address',\n",
    "           'inn',\n",
    "           'form_name']\n",
    "out_df_actual_education_organization = pd.DataFrame(rows, columns=df_cols)"
   ]
  },
  {
   "cell_type": "code",
   "execution_count": null,
   "metadata": {},
   "outputs": [],
   "source": [
    "out_df_actual_education_organization.head()"
   ]
  },
  {
   "cell_type": "markdown",
   "metadata": {},
   "source": [
    "## 1.3. Объединим"
   ]
  },
  {
   "cell_type": "code",
   "execution_count": null,
   "metadata": {},
   "outputs": [],
   "source": [
    "df = pd.concat((out_df_certificate,\n",
    "                out_df_actual_education_organization),\n",
    "               axis=1)"
   ]
  },
  {
   "cell_type": "code",
   "execution_count": null,
   "metadata": {},
   "outputs": [],
   "source": [
    "df.head()"
   ]
  },
  {
   "cell_type": "code",
   "execution_count": null,
   "metadata": {},
   "outputs": [],
   "source": [
    "df.info()"
   ]
  },
  {
   "cell_type": "markdown",
   "metadata": {},
   "source": [
    "## 1.4. Выберем только \"status_name\" == \"Действующее\" и \"full_name\" содержит \"высшего\""
   ]
  },
  {
   "cell_type": "code",
   "execution_count": null,
   "metadata": {},
   "outputs": [],
   "source": [
    "df['status_name'].unique()"
   ]
  },
  {
   "cell_type": "code",
   "execution_count": null,
   "metadata": {},
   "outputs": [],
   "source": [
    "acting = df[\"status_name\"] == \"Действующее\"\n",
    "higher_education = df[\"full_name\"].str.contains('высшего')"
   ]
  },
  {
   "cell_type": "code",
   "execution_count": null,
   "metadata": {},
   "outputs": [],
   "source": [
    "df_vuz = df[acting & higher_education].drop(['status_name'], axis=1)"
   ]
  },
  {
   "cell_type": "code",
   "execution_count": null,
   "metadata": {},
   "outputs": [],
   "source": [
    "df_vuz.info()"
   ]
  },
  {
   "cell_type": "code",
   "execution_count": null,
   "metadata": {},
   "outputs": [],
   "source": [
    "df_vuz.head()"
   ]
  },
  {
   "cell_type": "code",
   "execution_count": null,
   "metadata": {},
   "outputs": [],
   "source": [
    "print('Всего ВУЗов', len(df_vuz))"
   ]
  },
  {
   "cell_type": "markdown",
   "metadata": {},
   "source": [
    "## 1.5. Посмотрим на организационно правовую форму (столбец form_name)"
   ]
  },
  {
   "cell_type": "code",
   "execution_count": null,
   "metadata": {},
   "outputs": [],
   "source": [
    "df_vuz['form_name'].unique()"
   ]
  },
  {
   "cell_type": "markdown",
   "metadata": {},
   "source": [
    "Видно, что столбец form_name заполнен небрежно и не полностью. В то же время наименование образовательной организации должно содержать указание на ее организационно-правовую форму и тип образовательной организации (согласно http://273-фз.рф/zakonodatelstvo/federalnyy-zakon-ot-29-dekabrya-2012-g-no-273-fz-ob-obrazovanii-v-rf). Поэтому удалим form_name. И извлечем нужную информацию из full_name."
   ]
  },
  {
   "cell_type": "code",
   "execution_count": null,
   "metadata": {},
   "outputs": [],
   "source": [
    "df_vuz.drop(['form_name'], axis=1, inplace=True)"
   ]
  },
  {
   "cell_type": "markdown",
   "metadata": {},
   "source": [
    "## 1.6. Извлечем информацию о категориях ВУЗов из full_name"
   ]
  },
  {
   "cell_type": "code",
   "execution_count": null,
   "metadata": {},
   "outputs": [],
   "source": [
    "vuz_type_set = set()\n",
    "for name in df_vuz['full_name']:\n",
    "    name = name.lower()\n",
    "    name = name.replace('\"', '«')\n",
    "    vuz_type = name.split('«')\n",
    "    vuz_type = vuz_type[0].split('высшего образования')\n",
    "    # print(vuz_type[0])\n",
    "    vuz_type = vuz_type[0].split(' ')\n",
    "    for word in vuz_type:\n",
    "        vuz_type_set.add(word)\n",
    "\n",
    "bug_word_list = ['-', '(славянский)',\n",
    "                 '', 'астраханской',\n",
    "                 'воронежский', 'высшего',\n",
    "                 'кыргызско-российский', 'красного',\n",
    "                 'области', 'областное',\n",
    "                 'образования', 'образовательная',\n",
    "                 'образовательное', 'организация',\n",
    "                 'ордена', 'профессионального',\n",
    "                 'профсоюзов', 'российско-армянский',\n",
    "                 'санкт-петербургское', 'славянский',\n",
    "                 'среднего', 'тамбовское',\n",
    "                 'трудового', '–',\n",
    "                 'знамени', 'высоких',\n",
    "                 'университет', 'институт',\n",
    "                 'учреждение']\n",
    "\n",
    "for word in bug_word_list:\n",
    "    vuz_type_set.remove(word)"
   ]
  },
  {
   "cell_type": "code",
   "execution_count": null,
   "metadata": {},
   "outputs": [],
   "source": [
    "vuz_type_set"
   ]
  },
  {
   "cell_type": "code",
   "execution_count": null,
   "metadata": {},
   "outputs": [],
   "source": [
    "avtonomnaya = ['автономная',  'автономное']\n",
    "akkreditovannoye = ['аккредитованное']\n",
    "byudzhetnoye = ['бюджетное']\n",
    "voyennoye = ['военное']\n",
    "gosudarstvennoye = ['государственное']\n",
    "religioznaya = ['духовная', 'религиозная']\n",
    "inclusive = ['инклюзивного']\n",
    "kazennoye = ['казенное']\n",
    "kultury = ['культуры']\n",
    "mezhgosudarstvennoye = ['межгосударственное']\n",
    "munitsipalnoye = ['муниципальное']\n",
    "negosudarstvennaya = ['негосударственная', 'негосударственное']\n",
    "nekommercheskaya = ['некоммерческая', 'некоммерческое']\n",
    "technologies = ['технологий']\n",
    "federalnoye = ['федеральное']\n",
    "chastnoye = ['частное']"
   ]
  },
  {
   "cell_type": "code",
   "execution_count": null,
   "metadata": {},
   "outputs": [],
   "source": [
    "categories = [avtonomnaya, akkreditovannoye,\n",
    "              byudzhetnoye, voyennoye,\n",
    "              gosudarstvennoye, religioznaya,\n",
    "              inclusive, kazennoye, kultury,\n",
    "              mezhgosudarstvennoye, munitsipalnoye,\n",
    "              negosudarstvennaya, nekommercheskaya,\n",
    "              technologies, federalnoye,\n",
    "              chastnoye]"
   ]
  },
  {
   "cell_type": "code",
   "execution_count": null,
   "metadata": {},
   "outputs": [],
   "source": [
    "categories_names = ['is_avtonomnaya', 'is_akkreditovannoye',\n",
    "                    'is_byudzhetnoye', 'is_voyennoye',\n",
    "                    'is_gosudarstvennoye', 'is_religioznaya',\n",
    "                    'is_inclusive', 'is_kazennoye', 'is_kultury',\n",
    "                    'is_mezhgosudarstvennoye', 'is_munitsipalnoye',\n",
    "                    'is_negosudarstvennaya', 'is_nekommercheskaya',\n",
    "                    'is_technologies', 'is_federalnoye',\n",
    "                    'is_chastnoye']"
   ]
  },
  {
   "cell_type": "code",
   "execution_count": null,
   "metadata": {},
   "outputs": [],
   "source": [
    "for cats, cats_name in zip(categories, categories_names):\n",
    "    mask = df_vuz[\"full_name\"].str.contains(cats[0])\n",
    "    if len(cats) > 1:\n",
    "        mask = mask + df_vuz[\"full_name\"].str.contains(cats[1])\n",
    "    df_vuz[cats_name] = mask"
   ]
  },
  {
   "cell_type": "code",
   "execution_count": null,
   "metadata": {},
   "outputs": [],
   "source": [
    "df_vuz[categories_names].head()"
   ]
  },
  {
   "cell_type": "markdown",
   "metadata": {},
   "source": [
    "## 1.7. Визуализируем связь между выделенными категориями"
   ]
  },
  {
   "cell_type": "code",
   "execution_count": null,
   "metadata": {},
   "outputs": [],
   "source": [
    "X = df_vuz[categories_names]"
   ]
  },
  {
   "cell_type": "code",
   "execution_count": null,
   "metadata": {},
   "outputs": [],
   "source": [
    "plt.figure(figsize=(12, 10))\n",
    "sns.heatmap(abs(X.corr().round(2)),\n",
    "            xticklabels=X.corr().columns,\n",
    "            yticklabels=X.corr().columns,\n",
    "            cmap='RdYlGn',\n",
    "            center=0,\n",
    "            annot=True)\n",
    "plt.title('Коррелограмма типов ВУЗов', fontsize=22)\n",
    "plt.xticks(fontsize=12)\n",
    "plt.yticks(fontsize=12)\n",
    "plt.savefig('..\\\\reports\\\\figures\\\\vuz-types-correlogram.png', dpi=100)\n",
    "plt.show()"
   ]
  },
  {
   "cell_type": "markdown",
   "metadata": {},
   "source": [
    "## 1.8. Посчитаем, сколько вузов каждой категории"
   ]
  },
  {
   "cell_type": "code",
   "execution_count": null,
   "metadata": {},
   "outputs": [],
   "source": [
    "X.sum()"
   ]
  },
  {
   "cell_type": "code",
   "execution_count": null,
   "metadata": {},
   "outputs": [],
   "source": [
    "df_vuz.head()"
   ]
  },
  {
   "cell_type": "code",
   "execution_count": null,
   "metadata": {},
   "outputs": [],
   "source": []
  },
  {
   "cell_type": "code",
   "execution_count": null,
   "metadata": {},
   "outputs": [],
   "source": []
  }
 ],
 "metadata": {
  "kernelspec": {
   "display_name": "Python 3",
   "language": "python",
   "name": "python3"
  },
  "language_info": {
   "codemirror_mode": {
    "name": "ipython",
    "version": 3
   },
   "file_extension": ".py",
   "mimetype": "text/x-python",
   "name": "python",
   "nbconvert_exporter": "python",
   "pygments_lexer": "ipython3",
   "version": "3.7.1"
  }
 },
 "nbformat": 4,
 "nbformat_minor": 2
}
